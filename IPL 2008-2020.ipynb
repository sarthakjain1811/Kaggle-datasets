{
 "cells": [
  {
   "cell_type": "markdown",
   "id": "55040d9d",
   "metadata": {},
   "source": [
    "This is IPL's match data from 2008-2020."
   ]
  },
  {
   "cell_type": "markdown",
   "id": "e91f2fa3",
   "metadata": {},
   "source": [
    "# Importing Python packages"
   ]
  },
  {
   "cell_type": "code",
   "execution_count": 2,
   "id": "2ba5d748",
   "metadata": {},
   "outputs": [],
   "source": [
    "import numpy as np\n",
    "import pandas as pd\n",
    "from matplotlib import pyplot as plt\n",
    "import seaborn as sns\n",
    "import plotnine\n",
    "import datetime\n",
    "from collections import Counter"
   ]
  },
  {
   "cell_type": "markdown",
   "id": "3fc0998d",
   "metadata": {},
   "source": [
    "# Reading the data"
   ]
  },
  {
   "cell_type": "code",
   "execution_count": 3,
   "id": "54d3f887",
   "metadata": {},
   "outputs": [],
   "source": [
    "#Command used to read the .csv/xlsx file uploaded on Jupyter\n",
    "# If you have your file on local,use the 'C:\\\\Users\\\\...YourFileName.xlsx'.\n",
    "df = pd.read_csv(\"IPL_Matches.csv\")"
   ]
  },
  {
   "cell_type": "markdown",
   "id": "90da55f1",
   "metadata": {},
   "source": [
    "# Viewing and Understanding the data"
   ]
  },
  {
   "cell_type": "code",
   "execution_count": 4,
   "id": "9d67e500",
   "metadata": {},
   "outputs": [
    {
     "data": {
      "text/html": [
       "<div>\n",
       "<style scoped>\n",
       "    .dataframe tbody tr th:only-of-type {\n",
       "        vertical-align: middle;\n",
       "    }\n",
       "\n",
       "    .dataframe tbody tr th {\n",
       "        vertical-align: top;\n",
       "    }\n",
       "\n",
       "    .dataframe thead th {\n",
       "        text-align: right;\n",
       "    }\n",
       "</style>\n",
       "<table border=\"1\" class=\"dataframe\">\n",
       "  <thead>\n",
       "    <tr style=\"text-align: right;\">\n",
       "      <th></th>\n",
       "      <th>id</th>\n",
       "      <th>city</th>\n",
       "      <th>date</th>\n",
       "      <th>player_of_match</th>\n",
       "      <th>venue</th>\n",
       "      <th>neutral_venue</th>\n",
       "      <th>team1</th>\n",
       "      <th>team2</th>\n",
       "      <th>toss_winner</th>\n",
       "      <th>toss_decision</th>\n",
       "      <th>winner</th>\n",
       "      <th>result</th>\n",
       "      <th>result_margin</th>\n",
       "      <th>eliminator</th>\n",
       "      <th>method</th>\n",
       "      <th>umpire1</th>\n",
       "      <th>umpire2</th>\n",
       "    </tr>\n",
       "  </thead>\n",
       "  <tbody>\n",
       "    <tr>\n",
       "      <th>0</th>\n",
       "      <td>335982</td>\n",
       "      <td>Bangalore</td>\n",
       "      <td>2008-04-18</td>\n",
       "      <td>BB McCullum</td>\n",
       "      <td>M Chinnaswamy Stadium</td>\n",
       "      <td>0</td>\n",
       "      <td>Royal Challengers Bangalore</td>\n",
       "      <td>Kolkata Knight Riders</td>\n",
       "      <td>Royal Challengers Bangalore</td>\n",
       "      <td>field</td>\n",
       "      <td>Kolkata Knight Riders</td>\n",
       "      <td>runs</td>\n",
       "      <td>140.0</td>\n",
       "      <td>N</td>\n",
       "      <td>NaN</td>\n",
       "      <td>Asad Rauf</td>\n",
       "      <td>RE Koertzen</td>\n",
       "    </tr>\n",
       "    <tr>\n",
       "      <th>1</th>\n",
       "      <td>335983</td>\n",
       "      <td>Chandigarh</td>\n",
       "      <td>2008-04-19</td>\n",
       "      <td>MEK Hussey</td>\n",
       "      <td>Punjab Cricket Association Stadium, Mohali</td>\n",
       "      <td>0</td>\n",
       "      <td>Kings XI Punjab</td>\n",
       "      <td>Chennai Super Kings</td>\n",
       "      <td>Chennai Super Kings</td>\n",
       "      <td>bat</td>\n",
       "      <td>Chennai Super Kings</td>\n",
       "      <td>runs</td>\n",
       "      <td>33.0</td>\n",
       "      <td>N</td>\n",
       "      <td>NaN</td>\n",
       "      <td>MR Benson</td>\n",
       "      <td>SL Shastri</td>\n",
       "    </tr>\n",
       "    <tr>\n",
       "      <th>2</th>\n",
       "      <td>335984</td>\n",
       "      <td>Delhi</td>\n",
       "      <td>2008-04-19</td>\n",
       "      <td>MF Maharoof</td>\n",
       "      <td>Feroz Shah Kotla</td>\n",
       "      <td>0</td>\n",
       "      <td>Delhi Daredevils</td>\n",
       "      <td>Rajasthan Royals</td>\n",
       "      <td>Rajasthan Royals</td>\n",
       "      <td>bat</td>\n",
       "      <td>Delhi Daredevils</td>\n",
       "      <td>wickets</td>\n",
       "      <td>9.0</td>\n",
       "      <td>N</td>\n",
       "      <td>NaN</td>\n",
       "      <td>Aleem Dar</td>\n",
       "      <td>GA Pratapkumar</td>\n",
       "    </tr>\n",
       "    <tr>\n",
       "      <th>3</th>\n",
       "      <td>335985</td>\n",
       "      <td>Mumbai</td>\n",
       "      <td>2008-04-20</td>\n",
       "      <td>MV Boucher</td>\n",
       "      <td>Wankhede Stadium</td>\n",
       "      <td>0</td>\n",
       "      <td>Mumbai Indians</td>\n",
       "      <td>Royal Challengers Bangalore</td>\n",
       "      <td>Mumbai Indians</td>\n",
       "      <td>bat</td>\n",
       "      <td>Royal Challengers Bangalore</td>\n",
       "      <td>wickets</td>\n",
       "      <td>5.0</td>\n",
       "      <td>N</td>\n",
       "      <td>NaN</td>\n",
       "      <td>SJ Davis</td>\n",
       "      <td>DJ Harper</td>\n",
       "    </tr>\n",
       "    <tr>\n",
       "      <th>4</th>\n",
       "      <td>335986</td>\n",
       "      <td>Kolkata</td>\n",
       "      <td>2008-04-20</td>\n",
       "      <td>DJ Hussey</td>\n",
       "      <td>Eden Gardens</td>\n",
       "      <td>0</td>\n",
       "      <td>Kolkata Knight Riders</td>\n",
       "      <td>Deccan Chargers</td>\n",
       "      <td>Deccan Chargers</td>\n",
       "      <td>bat</td>\n",
       "      <td>Kolkata Knight Riders</td>\n",
       "      <td>wickets</td>\n",
       "      <td>5.0</td>\n",
       "      <td>N</td>\n",
       "      <td>NaN</td>\n",
       "      <td>BF Bowden</td>\n",
       "      <td>K Hariharan</td>\n",
       "    </tr>\n",
       "    <tr>\n",
       "      <th>...</th>\n",
       "      <td>...</td>\n",
       "      <td>...</td>\n",
       "      <td>...</td>\n",
       "      <td>...</td>\n",
       "      <td>...</td>\n",
       "      <td>...</td>\n",
       "      <td>...</td>\n",
       "      <td>...</td>\n",
       "      <td>...</td>\n",
       "      <td>...</td>\n",
       "      <td>...</td>\n",
       "      <td>...</td>\n",
       "      <td>...</td>\n",
       "      <td>...</td>\n",
       "      <td>...</td>\n",
       "      <td>...</td>\n",
       "      <td>...</td>\n",
       "    </tr>\n",
       "    <tr>\n",
       "      <th>811</th>\n",
       "      <td>1216547</td>\n",
       "      <td>Dubai</td>\n",
       "      <td>2020-09-28</td>\n",
       "      <td>AB de Villiers</td>\n",
       "      <td>Dubai International Cricket Stadium</td>\n",
       "      <td>0</td>\n",
       "      <td>Royal Challengers Bangalore</td>\n",
       "      <td>Mumbai Indians</td>\n",
       "      <td>Mumbai Indians</td>\n",
       "      <td>field</td>\n",
       "      <td>Royal Challengers Bangalore</td>\n",
       "      <td>tie</td>\n",
       "      <td>NaN</td>\n",
       "      <td>Y</td>\n",
       "      <td>NaN</td>\n",
       "      <td>Nitin Menon</td>\n",
       "      <td>PR Reiffel</td>\n",
       "    </tr>\n",
       "    <tr>\n",
       "      <th>812</th>\n",
       "      <td>1237177</td>\n",
       "      <td>Dubai</td>\n",
       "      <td>2020-11-05</td>\n",
       "      <td>JJ Bumrah</td>\n",
       "      <td>Dubai International Cricket Stadium</td>\n",
       "      <td>0</td>\n",
       "      <td>Mumbai Indians</td>\n",
       "      <td>Delhi Capitals</td>\n",
       "      <td>Delhi Capitals</td>\n",
       "      <td>field</td>\n",
       "      <td>Mumbai Indians</td>\n",
       "      <td>runs</td>\n",
       "      <td>57.0</td>\n",
       "      <td>N</td>\n",
       "      <td>NaN</td>\n",
       "      <td>CB Gaffaney</td>\n",
       "      <td>Nitin Menon</td>\n",
       "    </tr>\n",
       "    <tr>\n",
       "      <th>813</th>\n",
       "      <td>1237178</td>\n",
       "      <td>Abu Dhabi</td>\n",
       "      <td>2020-11-06</td>\n",
       "      <td>KS Williamson</td>\n",
       "      <td>Sheikh Zayed Stadium</td>\n",
       "      <td>0</td>\n",
       "      <td>Royal Challengers Bangalore</td>\n",
       "      <td>Sunrisers Hyderabad</td>\n",
       "      <td>Sunrisers Hyderabad</td>\n",
       "      <td>field</td>\n",
       "      <td>Sunrisers Hyderabad</td>\n",
       "      <td>wickets</td>\n",
       "      <td>6.0</td>\n",
       "      <td>N</td>\n",
       "      <td>NaN</td>\n",
       "      <td>PR Reiffel</td>\n",
       "      <td>S Ravi</td>\n",
       "    </tr>\n",
       "    <tr>\n",
       "      <th>814</th>\n",
       "      <td>1237180</td>\n",
       "      <td>Abu Dhabi</td>\n",
       "      <td>2020-11-08</td>\n",
       "      <td>MP Stoinis</td>\n",
       "      <td>Sheikh Zayed Stadium</td>\n",
       "      <td>0</td>\n",
       "      <td>Delhi Capitals</td>\n",
       "      <td>Sunrisers Hyderabad</td>\n",
       "      <td>Delhi Capitals</td>\n",
       "      <td>bat</td>\n",
       "      <td>Delhi Capitals</td>\n",
       "      <td>runs</td>\n",
       "      <td>17.0</td>\n",
       "      <td>N</td>\n",
       "      <td>NaN</td>\n",
       "      <td>PR Reiffel</td>\n",
       "      <td>S Ravi</td>\n",
       "    </tr>\n",
       "    <tr>\n",
       "      <th>815</th>\n",
       "      <td>1237181</td>\n",
       "      <td>Dubai</td>\n",
       "      <td>2020-11-10</td>\n",
       "      <td>TA Boult</td>\n",
       "      <td>Dubai International Cricket Stadium</td>\n",
       "      <td>0</td>\n",
       "      <td>Delhi Capitals</td>\n",
       "      <td>Mumbai Indians</td>\n",
       "      <td>Delhi Capitals</td>\n",
       "      <td>bat</td>\n",
       "      <td>Mumbai Indians</td>\n",
       "      <td>wickets</td>\n",
       "      <td>5.0</td>\n",
       "      <td>N</td>\n",
       "      <td>NaN</td>\n",
       "      <td>CB Gaffaney</td>\n",
       "      <td>Nitin Menon</td>\n",
       "    </tr>\n",
       "  </tbody>\n",
       "</table>\n",
       "<p>816 rows × 17 columns</p>\n",
       "</div>"
      ],
      "text/plain": [
       "          id        city        date player_of_match  \\\n",
       "0     335982   Bangalore  2008-04-18     BB McCullum   \n",
       "1     335983  Chandigarh  2008-04-19      MEK Hussey   \n",
       "2     335984       Delhi  2008-04-19     MF Maharoof   \n",
       "3     335985      Mumbai  2008-04-20      MV Boucher   \n",
       "4     335986     Kolkata  2008-04-20       DJ Hussey   \n",
       "..       ...         ...         ...             ...   \n",
       "811  1216547       Dubai  2020-09-28  AB de Villiers   \n",
       "812  1237177       Dubai  2020-11-05       JJ Bumrah   \n",
       "813  1237178   Abu Dhabi  2020-11-06   KS Williamson   \n",
       "814  1237180   Abu Dhabi  2020-11-08      MP Stoinis   \n",
       "815  1237181       Dubai  2020-11-10        TA Boult   \n",
       "\n",
       "                                          venue  neutral_venue  \\\n",
       "0                         M Chinnaswamy Stadium              0   \n",
       "1    Punjab Cricket Association Stadium, Mohali              0   \n",
       "2                              Feroz Shah Kotla              0   \n",
       "3                              Wankhede Stadium              0   \n",
       "4                                  Eden Gardens              0   \n",
       "..                                          ...            ...   \n",
       "811         Dubai International Cricket Stadium              0   \n",
       "812         Dubai International Cricket Stadium              0   \n",
       "813                        Sheikh Zayed Stadium              0   \n",
       "814                        Sheikh Zayed Stadium              0   \n",
       "815         Dubai International Cricket Stadium              0   \n",
       "\n",
       "                           team1                        team2  \\\n",
       "0    Royal Challengers Bangalore        Kolkata Knight Riders   \n",
       "1                Kings XI Punjab          Chennai Super Kings   \n",
       "2               Delhi Daredevils             Rajasthan Royals   \n",
       "3                 Mumbai Indians  Royal Challengers Bangalore   \n",
       "4          Kolkata Knight Riders              Deccan Chargers   \n",
       "..                           ...                          ...   \n",
       "811  Royal Challengers Bangalore               Mumbai Indians   \n",
       "812               Mumbai Indians               Delhi Capitals   \n",
       "813  Royal Challengers Bangalore          Sunrisers Hyderabad   \n",
       "814               Delhi Capitals          Sunrisers Hyderabad   \n",
       "815               Delhi Capitals               Mumbai Indians   \n",
       "\n",
       "                     toss_winner toss_decision                       winner  \\\n",
       "0    Royal Challengers Bangalore         field        Kolkata Knight Riders   \n",
       "1            Chennai Super Kings           bat          Chennai Super Kings   \n",
       "2               Rajasthan Royals           bat             Delhi Daredevils   \n",
       "3                 Mumbai Indians           bat  Royal Challengers Bangalore   \n",
       "4                Deccan Chargers           bat        Kolkata Knight Riders   \n",
       "..                           ...           ...                          ...   \n",
       "811               Mumbai Indians         field  Royal Challengers Bangalore   \n",
       "812               Delhi Capitals         field               Mumbai Indians   \n",
       "813          Sunrisers Hyderabad         field          Sunrisers Hyderabad   \n",
       "814               Delhi Capitals           bat               Delhi Capitals   \n",
       "815               Delhi Capitals           bat               Mumbai Indians   \n",
       "\n",
       "      result  result_margin eliminator method      umpire1         umpire2  \n",
       "0       runs          140.0          N    NaN    Asad Rauf     RE Koertzen  \n",
       "1       runs           33.0          N    NaN    MR Benson      SL Shastri  \n",
       "2    wickets            9.0          N    NaN    Aleem Dar  GA Pratapkumar  \n",
       "3    wickets            5.0          N    NaN     SJ Davis       DJ Harper  \n",
       "4    wickets            5.0          N    NaN    BF Bowden     K Hariharan  \n",
       "..       ...            ...        ...    ...          ...             ...  \n",
       "811      tie            NaN          Y    NaN  Nitin Menon      PR Reiffel  \n",
       "812     runs           57.0          N    NaN  CB Gaffaney     Nitin Menon  \n",
       "813  wickets            6.0          N    NaN   PR Reiffel          S Ravi  \n",
       "814     runs           17.0          N    NaN   PR Reiffel          S Ravi  \n",
       "815  wickets            5.0          N    NaN  CB Gaffaney     Nitin Menon  \n",
       "\n",
       "[816 rows x 17 columns]"
      ]
     },
     "execution_count": 4,
     "metadata": {},
     "output_type": "execute_result"
    }
   ],
   "source": [
    "# Command used to see or view the data uploaded which also tells us the number of rows and columns in its output\n",
    "df"
   ]
  },
  {
   "cell_type": "code",
   "execution_count": 5,
   "id": "46bc957c",
   "metadata": {},
   "outputs": [
    {
     "data": {
      "text/plain": [
       "Index(['id', 'city', 'date', 'player_of_match', 'venue', 'neutral_venue',\n",
       "       'team1', 'team2', 'toss_winner', 'toss_decision', 'winner', 'result',\n",
       "       'result_margin', 'eliminator', 'method', 'umpire1', 'umpire2'],\n",
       "      dtype='object')"
      ]
     },
     "execution_count": 5,
     "metadata": {},
     "output_type": "execute_result"
    }
   ],
   "source": [
    "df.columns"
   ]
  },
  {
   "cell_type": "markdown",
   "id": "804bc095",
   "metadata": {},
   "source": [
    "This data has 816 rows and 17 columns.Lets check all the columns as well and decide how to proceed to clean the data.\n"
   ]
  },
  {
   "cell_type": "code",
   "execution_count": 6,
   "id": "9bd54f46",
   "metadata": {},
   "outputs": [
    {
     "data": {
      "text/html": [
       "<div>\n",
       "<style scoped>\n",
       "    .dataframe tbody tr th:only-of-type {\n",
       "        vertical-align: middle;\n",
       "    }\n",
       "\n",
       "    .dataframe tbody tr th {\n",
       "        vertical-align: top;\n",
       "    }\n",
       "\n",
       "    .dataframe thead th {\n",
       "        text-align: right;\n",
       "    }\n",
       "</style>\n",
       "<table border=\"1\" class=\"dataframe\">\n",
       "  <thead>\n",
       "    <tr style=\"text-align: right;\">\n",
       "      <th></th>\n",
       "      <th>id</th>\n",
       "      <th>neutral_venue</th>\n",
       "      <th>result_margin</th>\n",
       "    </tr>\n",
       "  </thead>\n",
       "  <tbody>\n",
       "    <tr>\n",
       "      <th>count</th>\n",
       "      <td>8.160000e+02</td>\n",
       "      <td>816.000000</td>\n",
       "      <td>799.000000</td>\n",
       "    </tr>\n",
       "    <tr>\n",
       "      <th>mean</th>\n",
       "      <td>7.563496e+05</td>\n",
       "      <td>0.094363</td>\n",
       "      <td>17.321652</td>\n",
       "    </tr>\n",
       "    <tr>\n",
       "      <th>std</th>\n",
       "      <td>3.058943e+05</td>\n",
       "      <td>0.292512</td>\n",
       "      <td>22.068427</td>\n",
       "    </tr>\n",
       "    <tr>\n",
       "      <th>min</th>\n",
       "      <td>3.359820e+05</td>\n",
       "      <td>0.000000</td>\n",
       "      <td>1.000000</td>\n",
       "    </tr>\n",
       "    <tr>\n",
       "      <th>25%</th>\n",
       "      <td>5.012278e+05</td>\n",
       "      <td>0.000000</td>\n",
       "      <td>6.000000</td>\n",
       "    </tr>\n",
       "    <tr>\n",
       "      <th>50%</th>\n",
       "      <td>7.292980e+05</td>\n",
       "      <td>0.000000</td>\n",
       "      <td>8.000000</td>\n",
       "    </tr>\n",
       "    <tr>\n",
       "      <th>75%</th>\n",
       "      <td>1.082626e+06</td>\n",
       "      <td>0.000000</td>\n",
       "      <td>19.500000</td>\n",
       "    </tr>\n",
       "    <tr>\n",
       "      <th>max</th>\n",
       "      <td>1.237181e+06</td>\n",
       "      <td>1.000000</td>\n",
       "      <td>146.000000</td>\n",
       "    </tr>\n",
       "  </tbody>\n",
       "</table>\n",
       "</div>"
      ],
      "text/plain": [
       "                 id  neutral_venue  result_margin\n",
       "count  8.160000e+02     816.000000     799.000000\n",
       "mean   7.563496e+05       0.094363      17.321652\n",
       "std    3.058943e+05       0.292512      22.068427\n",
       "min    3.359820e+05       0.000000       1.000000\n",
       "25%    5.012278e+05       0.000000       6.000000\n",
       "50%    7.292980e+05       0.000000       8.000000\n",
       "75%    1.082626e+06       0.000000      19.500000\n",
       "max    1.237181e+06       1.000000     146.000000"
      ]
     },
     "execution_count": 6,
     "metadata": {},
     "output_type": "execute_result"
    }
   ],
   "source": [
    "# This command is used to describe numerical data columns only. \n",
    "df.describe()"
   ]
  },
  {
   "cell_type": "markdown",
   "id": "35194cca",
   "metadata": {},
   "source": [
    "For neutral_venue:\n",
    "1) We have no missing row value in this column but the term neutral_venue meaning is missing and unclear.\n",
    "2) Its maximun value is 1 and minimun value is 0 with a mean of 0.09. \n",
    "\n",
    "For result_margin: (Win  by runs or win by wickets)\n",
    "1) It is clear that 17 values are not numerical and we will see it later.\n",
    "2) We need to distribute this column data accordign to win by wickets or win by runs whcih will make the data more clear.Max is 146, so a team won a match by maximum of 146 runs ( As we cant have 146 wickets).\n",
    "\n",
    "It also concludes that only neutral_venue and result_margin columns has numerical values."
   ]
  },
  {
   "cell_type": "code",
   "execution_count": 7,
   "id": "4efe2a17",
   "metadata": {},
   "outputs": [
    {
     "name": "stdout",
     "output_type": "stream",
     "text": [
      "<class 'pandas.core.frame.DataFrame'>\n",
      "RangeIndex: 816 entries, 0 to 815\n",
      "Data columns (total 17 columns):\n",
      " #   Column           Non-Null Count  Dtype  \n",
      "---  ------           --------------  -----  \n",
      " 0   id               816 non-null    int64  \n",
      " 1   city             803 non-null    object \n",
      " 2   date             816 non-null    object \n",
      " 3   player_of_match  812 non-null    object \n",
      " 4   venue            816 non-null    object \n",
      " 5   neutral_venue    816 non-null    int64  \n",
      " 6   team1            816 non-null    object \n",
      " 7   team2            816 non-null    object \n",
      " 8   toss_winner      816 non-null    object \n",
      " 9   toss_decision    816 non-null    object \n",
      " 10  winner           812 non-null    object \n",
      " 11  result           812 non-null    object \n",
      " 12  result_margin    799 non-null    float64\n",
      " 13  eliminator       812 non-null    object \n",
      " 14  method           19 non-null     object \n",
      " 15  umpire1          816 non-null    object \n",
      " 16  umpire2          816 non-null    object \n",
      "dtypes: float64(1), int64(2), object(14)\n",
      "memory usage: 108.5+ KB\n"
     ]
    }
   ],
   "source": [
    "# This command is used get the number of non-null values and data type of the column.\n",
    "df.info()"
   ]
  },
  {
   "cell_type": "code",
   "execution_count": 8,
   "id": "90ede249",
   "metadata": {},
   "outputs": [
    {
     "data": {
      "text/plain": [
       "id                   0\n",
       "city                13\n",
       "date                 0\n",
       "player_of_match      4\n",
       "venue                0\n",
       "neutral_venue        0\n",
       "team1                0\n",
       "team2                0\n",
       "toss_winner          0\n",
       "toss_decision        0\n",
       "winner               4\n",
       "result               4\n",
       "result_margin       17\n",
       "eliminator           4\n",
       "method             797\n",
       "umpire1              0\n",
       "umpire2              0\n",
       "dtype: int64"
      ]
     },
     "execution_count": 8,
     "metadata": {},
     "output_type": "execute_result"
    }
   ],
   "source": [
    "df.isnull().sum()"
   ]
  },
  {
   "cell_type": "markdown",
   "id": "266778d9",
   "metadata": {},
   "source": [
    "Columns like city, player_of_match, winner, result, result_margin, eliminatior and method has NA as values."
   ]
  },
  {
   "cell_type": "code",
   "execution_count": 9,
   "id": "ea150555",
   "metadata": {},
   "outputs": [
    {
     "data": {
      "text/plain": [
       "36"
      ]
     },
     "execution_count": 9,
     "metadata": {},
     "output_type": "execute_result"
    }
   ],
   "source": [
    "# This command is used to get number of unique values in a column\n",
    "len(pd.unique(df[\"venue\"]))"
   ]
  },
  {
   "cell_type": "markdown",
   "id": "dcd4cd93",
   "metadata": {},
   "source": [
    "There are 36 unique venues across all IPL seasons."
   ]
  },
  {
   "cell_type": "code",
   "execution_count": 10,
   "id": "3e688d64",
   "metadata": {},
   "outputs": [
    {
     "data": {
      "text/plain": [
       "array(['M Chinnaswamy Stadium',\n",
       "       'Punjab Cricket Association Stadium, Mohali', 'Feroz Shah Kotla',\n",
       "       'Wankhede Stadium', 'Eden Gardens', 'Sawai Mansingh Stadium',\n",
       "       'Rajiv Gandhi International Stadium, Uppal',\n",
       "       'MA Chidambaram Stadium, Chepauk', 'Dr DY Patil Sports Academy',\n",
       "       'Newlands', \"St George's Park\", 'Kingsmead', 'SuperSport Park',\n",
       "       'Buffalo Park', 'New Wanderers Stadium', 'De Beers Diamond Oval',\n",
       "       'OUTsurance Oval', 'Brabourne Stadium',\n",
       "       'Sardar Patel Stadium, Motera', 'Barabati Stadium',\n",
       "       'Vidarbha Cricket Association Stadium, Jamtha',\n",
       "       'Himachal Pradesh Cricket Association Stadium', 'Nehru Stadium',\n",
       "       'Holkar Cricket Stadium',\n",
       "       'Dr. Y.S. Rajasekhara Reddy ACA-VDCA Cricket Stadium',\n",
       "       'Subrata Roy Sahara Stadium',\n",
       "       'Shaheed Veer Narayan Singh International Stadium',\n",
       "       'JSCA International Stadium Complex', 'Sheikh Zayed Stadium',\n",
       "       'Sharjah Cricket Stadium', 'Dubai International Cricket Stadium',\n",
       "       'Maharashtra Cricket Association Stadium',\n",
       "       'Punjab Cricket Association IS Bindra Stadium, Mohali',\n",
       "       'Saurashtra Cricket Association Stadium', 'Green Park',\n",
       "       'M.Chinnaswamy Stadium'], dtype=object)"
      ]
     },
     "execution_count": 10,
     "metadata": {},
     "output_type": "execute_result"
    }
   ],
   "source": [
    "# This command is used to get the unique values\n",
    "df[\"venue\"].unique()"
   ]
  },
  {
   "cell_type": "code",
   "execution_count": 11,
   "id": "79790f4f",
   "metadata": {},
   "outputs": [
    {
     "data": {
      "text/plain": [
       "234"
      ]
     },
     "execution_count": 11,
     "metadata": {},
     "output_type": "execute_result"
    }
   ],
   "source": [
    "len(pd.unique(df[\"player_of_match\"]))"
   ]
  },
  {
   "cell_type": "markdown",
   "id": "dcba5326",
   "metadata": {},
   "source": [
    "A total of 234 different players have won player of match awards."
   ]
  },
  {
   "cell_type": "code",
   "execution_count": 12,
   "id": "c954fa22",
   "metadata": {},
   "outputs": [
    {
     "data": {
      "text/plain": [
       "array(['BB McCullum', 'MEK Hussey', 'MF Maharoof', 'MV Boucher',\n",
       "       'DJ Hussey', 'SR Watson', 'V Sehwag', 'ML Hayden', 'YK Pathan',\n",
       "       'KC Sangakkara', 'JDP Oram', 'AC Gilchrist', 'SM Katich',\n",
       "       'MS Dhoni', 'ST Jayasuriya', 'GD McGrath', 'SE Marsh',\n",
       "       'SA Asnodkar', 'R Vinay Kumar', 'IK Pathan', 'SM Pollock',\n",
       "       'Sohail Tanvir', 'S Sreesanth', 'A Nehra', 'SC Ganguly',\n",
       "       'CRD Fernando', 'L Balaji', 'Shoaib Akhtar', 'A Mishra',\n",
       "       'DPMD Jayawardene', 'GC Smith', 'DJ Bravo', 'M Ntini',\n",
       "       'SP Goswami', 'A Kumble', 'KD Karthik', 'JA Morkel', 'P Kumar',\n",
       "       'Umar Gul', 'SK Raina', 'SR Tendulkar', 'R Dravid', 'DL Vettori',\n",
       "       'RP Singh', 'M Muralitharan', 'CH Gayle', 'AB de Villiers',\n",
       "       'RS Bopara', 'PP Ojha', 'TM Dilshan', 'HH Gibbs', 'DP Nannes',\n",
       "       'JP Duminy', 'Yuvraj Singh', 'SB Jakati', 'JH Kallis', 'G Gambhir',\n",
       "       'RG Sharma', 'A Singh', 'S Badrinath', 'DR Smith', 'LRPL Taylor',\n",
       "       'Harbhajan Singh', 'R Bhatia', 'SK Warne', 'B Lee', 'BJ Hodge',\n",
       "       'LR Shukla', 'MK Pandey', 'AD Mathews', 'MK Tiwary', 'WPUJC Vaas',\n",
       "       'A Symonds', 'AA Jhunjhunwala', 'J Theron', 'RV Uthappa',\n",
       "       'AC Voges', 'KM Jadhav', 'NV Ojha', 'DA Warner', 'SL Malinga',\n",
       "       'M Vijay', 'KP Pietersen', 'AT Rayudu', 'PD Collingwood',\n",
       "       'MJ Lumb', 'TL Suman', 'RJ Harris', 'PP Chawla', 'Harmeet Singh',\n",
       "       'KA Pollard', 'R Ashwin', 'R McLaren', 'JD Unadkat', 'M Kartik',\n",
       "       'DE Bollinger', 'S Anirudha', 'SK Trivedi', 'SB Wagh',\n",
       "       'PC Valthaty', 'MD Mishra', 'DW Steyn', 'S Sohal', 'MM Patel',\n",
       "       'V Kohli', 'I Sharma', 'J Botha', 'Iqbal Abdulla',\n",
       "       'P Parameswaran', 'R Sharma', 'MR Marsh', 'BA Bhatt', 'S Aravind',\n",
       "       'WP Saha', 'S Dhawan', nan, 'JEC Franklin', 'RE Levi', 'SPD Smith',\n",
       "       'AM Rahane', 'RA Jadeja', 'MN Samuels', 'M Morkel', 'F du Plessis',\n",
       "       'AD Mascarenhas', 'Shakib Al Hasan', 'JD Ryder', 'SP Narine',\n",
       "       'S Nadeem', 'KMDN Kulasekara', 'CL White', 'Mandeep Singh',\n",
       "       'P Negi', 'Azhar Mahmood', 'BW Hilfenhaus', 'A Chandila',\n",
       "       'UT Yadav', 'MS Bisla', 'M Vohra', 'GH Vihari', 'AJ Finch',\n",
       "       'JP Faulkner', 'MS Gony', 'DA Miller', 'SV Samson', 'DJG Sammy',\n",
       "       'MG Johnson', 'KK Cooper', 'PA Patel', 'AP Tare', 'LJ Wright',\n",
       "       'YS Chahal', 'GJ Maxwell', 'CA Lynn', 'MM Sharma', 'PV Tambe',\n",
       "       'Sandeep Sharma', 'B Kumar', 'CJ Anderson', 'KK Nair', 'AR Patel',\n",
       "       'LMP Simmons', 'DJ Hooda', 'GJ Bailey', 'AD Russell', 'MA Agarwal',\n",
       "       'SS Iyer', 'MA Starc', 'VR Aaron', 'TA Boult', 'NM Coulter-Nile',\n",
       "       'EJG Morgan', 'HH Pandya', 'MC Henriques', 'Z Khan',\n",
       "       'MJ McClenaghan', 'Q de Kock', 'Mustafizur Rahman', 'SA Yadav',\n",
       "       'AB Dinda', 'CH Morris', 'CR Brathwaite', 'RR Pant', 'MP Stoinis',\n",
       "       'A Zampa', 'KH Pandya', 'HM Amla', 'BCJ Cutting', 'Rashid Khan',\n",
       "       'N Rana', 'JJ Bumrah', 'AJ Tye', 'BA Stokes', 'KS Williamson',\n",
       "       'JC Buttler', 'LH Ferguson', 'Mohammed Shami', 'RA Tripathi',\n",
       "       'Mohammed Siraj', 'HV Patel', 'Washington Sundar', 'KV Sharma',\n",
       "       'KL Rahul', 'SW Billings', 'JJ Roy', 'B Stanlake', 'JC Archer',\n",
       "       'AS Rajpoot', 'TG Southee', 'Mujeeb Ur Rahman', 'Ishan Kishan',\n",
       "       'Kuldeep Yadav', 'S Gopal', 'L Ngidi', 'PP Shaw', 'JM Bairstow',\n",
       "       'SM Curran', 'AS Joseph', 'K Rabada', 'HF Gurney', 'DL Chahar',\n",
       "       'Imran Tahir', 'KMA Paul', 'KK Ahmed', 'Shubman Gill',\n",
       "       'SO Hetmyer', 'CV Varun', 'CJ Jordan', 'Shivam Mavi', 'A Nortje',\n",
       "       'RD Gaikwad', 'R Tewatia', 'PK Garg', 'PJ Cummins'], dtype=object)"
      ]
     },
     "execution_count": 12,
     "metadata": {},
     "output_type": "execute_result"
    }
   ],
   "source": [
    "df[\"player_of_match\"].unique()"
   ]
  },
  {
   "cell_type": "code",
   "execution_count": 13,
   "id": "4b2d1fc1",
   "metadata": {},
   "outputs": [
    {
     "name": "stdout",
     "output_type": "stream",
     "text": [
      "Counter({'AB de Villiers': 23, 'CH Gayle': 22, 'RG Sharma': 18, 'MS Dhoni': 17, 'DA Warner': 17, 'SR Watson': 16, 'YK Pathan': 16, 'SK Raina': 14, 'G Gambhir': 13, 'V Kohli': 13, 'MEK Hussey': 12, 'AM Rahane': 12, 'V Sehwag': 11, 'A Mishra': 11, 'DR Smith': 11, 'KA Pollard': 11, 'AD Russell': 11, 'JH Kallis': 10, 'AT Rayudu': 10, 'SE Marsh': 9, 'RA Jadeja': 9, 'SP Narine': 9, 'SR Tendulkar': 8, 'Harbhajan Singh': 8, 'S Dhawan': 8, 'UT Yadav': 8, 'Rashid Khan': 8, 'AC Gilchrist': 7, 'RV Uthappa': 7, 'SV Samson': 7, 'KL Rahul': 7, 'A Nehra': 6, 'BJ Hodge': 6, 'SL Malinga': 6, 'M Vijay': 6, 'Sandeep Sharma': 6, 'HH Pandya': 6, 'RR Pant': 6, 'JJ Bumrah': 6, 'JC Buttler': 6, 'BB McCullum': 5, 'KC Sangakkara': 5, 'SC Ganguly': 5, 'DPMD Jayawardene': 5, 'KD Karthik': 5, 'Yuvraj Singh': 5, 'MK Pandey': 5, 'JD Unadkat': 5, 'DW Steyn': 5, 'SPD Smith': 5, 'AJ Finch': 5, 'JP Faulkner': 5, 'PA Patel': 5, 'GJ Maxwell': 5, 'B Kumar': 5, 'AR Patel': 5, 'SS Iyer': 5, 'SA Yadav': 5, 'BA Stokes': 5, 'ML Hayden': 4, 'JP Duminy': 4, 'SK Warne': 4, 'WP Saha': 4, nan: 4, 'F du Plessis': 4, 'CA Lynn': 4, 'TA Boult': 4, 'NM Coulter-Nile': 4, 'MP Stoinis': 4, 'KH Pandya': 4, 'N Rana': 4, 'KS Williamson': 4, 'R Vinay Kumar': 3, 'L Balaji': 3, 'DJ Bravo': 3, 'A Kumble': 3, 'LRPL Taylor': 3, 'MK Tiwary': 3, 'A Symonds': 3, 'KP Pietersen': 3, 'PP Chawla': 3, 'R Ashwin': 3, 'Mandeep Singh': 3, 'M Vohra': 3, 'DA Miller': 3, 'YS Chahal': 3, 'CJ Anderson': 3, 'KK Nair': 3, 'LMP Simmons': 3, 'Q de Kock': 3, 'JM Bairstow': 3, 'RD Gaikwad': 3, 'MV Boucher': 2, 'DJ Hussey': 2, 'ST Jayasuriya': 2, 'IK Pathan': 2, 'SM Pollock': 2, 'Sohail Tanvir': 2, 'GC Smith': 2, 'M Ntini': 2, 'JA Morkel': 2, 'P Kumar': 2, 'R Dravid': 2, 'M Muralitharan': 2, 'B Lee': 2, 'KM Jadhav': 2, 'Harmeet Singh': 2, 'DE Bollinger': 2, 'SK Trivedi': 2, 'PC Valthaty': 2, 'MM Patel': 2, 'I Sharma': 2, 'Iqbal Abdulla': 2, 'R Sharma': 2, 'M Morkel': 2, 'Shakib Al Hasan': 2, 'S Nadeem': 2, 'P Negi': 2, 'Azhar Mahmood': 2, 'BW Hilfenhaus': 2, 'GH Vihari': 2, 'MG Johnson': 2, 'MM Sharma': 2, 'PV Tambe': 2, 'MA Agarwal': 2, 'VR Aaron': 2, 'MC Henriques': 2, 'MJ McClenaghan': 2, 'AB Dinda': 2, 'CH Morris': 2, 'HM Amla': 2, 'AJ Tye': 2, 'LH Ferguson': 2, 'RA Tripathi': 2, 'Mohammed Siraj': 2, 'HV Patel': 2, 'AS Rajpoot': 2, 'Ishan Kishan': 2, 'S Gopal': 2, 'PP Shaw': 2, 'Shubman Gill': 2, 'A Nortje': 2, 'MF Maharoof': 1, 'JDP Oram': 1, 'SM Katich': 1, 'GD McGrath': 1, 'SA Asnodkar': 1, 'S Sreesanth': 1, 'CRD Fernando': 1, 'Shoaib Akhtar': 1, 'SP Goswami': 1, 'Umar Gul': 1, 'DL Vettori': 1, 'RP Singh': 1, 'RS Bopara': 1, 'PP Ojha': 1, 'TM Dilshan': 1, 'HH Gibbs': 1, 'DP Nannes': 1, 'SB Jakati': 1, 'A Singh': 1, 'S Badrinath': 1, 'R Bhatia': 1, 'LR Shukla': 1, 'AD Mathews': 1, 'WPUJC Vaas': 1, 'AA Jhunjhunwala': 1, 'J Theron': 1, 'AC Voges': 1, 'NV Ojha': 1, 'PD Collingwood': 1, 'MJ Lumb': 1, 'TL Suman': 1, 'RJ Harris': 1, 'R McLaren': 1, 'M Kartik': 1, 'S Anirudha': 1, 'SB Wagh': 1, 'MD Mishra': 1, 'S Sohal': 1, 'J Botha': 1, 'P Parameswaran': 1, 'MR Marsh': 1, 'BA Bhatt': 1, 'S Aravind': 1, 'JEC Franklin': 1, 'RE Levi': 1, 'MN Samuels': 1, 'AD Mascarenhas': 1, 'JD Ryder': 1, 'KMDN Kulasekara': 1, 'CL White': 1, 'A Chandila': 1, 'MS Bisla': 1, 'MS Gony': 1, 'DJG Sammy': 1, 'KK Cooper': 1, 'AP Tare': 1, 'LJ Wright': 1, 'DJ Hooda': 1, 'GJ Bailey': 1, 'MA Starc': 1, 'EJG Morgan': 1, 'Z Khan': 1, 'Mustafizur Rahman': 1, 'CR Brathwaite': 1, 'A Zampa': 1, 'BCJ Cutting': 1, 'Mohammed Shami': 1, 'Washington Sundar': 1, 'KV Sharma': 1, 'SW Billings': 1, 'JJ Roy': 1, 'B Stanlake': 1, 'JC Archer': 1, 'TG Southee': 1, 'Mujeeb Ur Rahman': 1, 'Kuldeep Yadav': 1, 'L Ngidi': 1, 'SM Curran': 1, 'AS Joseph': 1, 'K Rabada': 1, 'HF Gurney': 1, 'DL Chahar': 1, 'Imran Tahir': 1, 'KMA Paul': 1, 'KK Ahmed': 1, 'SO Hetmyer': 1, 'CV Varun': 1, 'CJ Jordan': 1, 'Shivam Mavi': 1, 'R Tewatia': 1, 'PK Garg': 1, 'PJ Cummins': 1})\n"
     ]
    }
   ],
   "source": [
    "# This command is used to collect the count of distinct values \n",
    "print(Counter(df[\"player_of_match\"]))"
   ]
  },
  {
   "cell_type": "markdown",
   "id": "da8956b4",
   "metadata": {},
   "source": [
    "AB de Villiers has won most number of player_of_match awards i.e 23.(till 2020)\n",
    "You can confirm : https://www.sportskeeda.com/cricket/ipl-most-man-of-the-match#:~:text=With%2025%20Man%20of%20the,match%20in%20IPL%20so%20far. ( till 2022)"
   ]
  },
  {
   "cell_type": "code",
   "execution_count": 14,
   "id": "c58d5c68",
   "metadata": {},
   "outputs": [
    {
     "name": "stdout",
     "output_type": "stream",
     "text": [
      "Counter({'Mumbai': 101, 'Kolkata': 77, 'Delhi': 74, 'Bangalore': 65, 'Hyderabad': 64, 'Chennai': 57, 'Chandigarh': 56, 'Jaipur': 47, 'Pune': 38, 'Abu Dhabi': 29, 'Dubai': 26, 'Durban': 15, 'Bengaluru': 15, 'Visakhapatnam': 13, nan: 13, 'Centurion': 12, 'Ahmedabad': 12, 'Sharjah': 12, 'Rajkot': 10, 'Dharamsala': 9, 'Indore': 9, 'Johannesburg': 8, 'Cape Town': 7, 'Port Elizabeth': 7, 'Cuttack': 7, 'Ranchi': 7, 'Raipur': 6, 'Kochi': 5, 'Kanpur': 4, 'East London': 3, 'Kimberley': 3, 'Nagpur': 3, 'Bloemfontein': 2})\n"
     ]
    }
   ],
   "source": [
    "print(Counter(df[\"city\"]))"
   ]
  },
  {
   "cell_type": "markdown",
   "id": "a6e299f4",
   "metadata": {},
   "source": [
    "Mumbai has organised most number of IPL matches i.e 101."
   ]
  },
  {
   "cell_type": "code",
   "execution_count": 15,
   "id": "b7539f84",
   "metadata": {},
   "outputs": [
    {
     "name": "stdout",
     "output_type": "stream",
     "text": [
      "Counter({'Mumbai Indians': 120, 'Chennai Super Kings': 106, 'Kolkata Knight Riders': 99, 'Royal Challengers Bangalore': 91, 'Kings XI Punjab': 88, 'Rajasthan Royals': 81, 'Delhi Daredevils': 67, 'Sunrisers Hyderabad': 66, 'Deccan Chargers': 29, 'Delhi Capitals': 19, 'Gujarat Lions': 13, 'Pune Warriors': 12, 'Rising Pune Supergiant': 10, 'Kochi Tuskers Kerala': 6, 'Rising Pune Supergiants': 5, nan: 4})\n"
     ]
    }
   ],
   "source": [
    "print(Counter(df[\"winner\"]))"
   ]
  },
  {
   "cell_type": "markdown",
   "id": "687e8edf",
   "metadata": {},
   "source": [
    "Mumbai has won most number of IPL matches i.e 120."
   ]
  },
  {
   "cell_type": "code",
   "execution_count": 16,
   "id": "e9605b09",
   "metadata": {},
   "outputs": [
    {
     "data": {
      "text/plain": [
       "{'Chennai Super Kings',\n",
       " 'Deccan Chargers',\n",
       " 'Delhi Capitals',\n",
       " 'Delhi Daredevils',\n",
       " 'Gujarat Lions',\n",
       " 'Kings XI Punjab',\n",
       " 'Kochi Tuskers Kerala',\n",
       " 'Kolkata Knight Riders',\n",
       " 'Mumbai Indians',\n",
       " 'Pune Warriors',\n",
       " 'Rajasthan Royals',\n",
       " 'Rising Pune Supergiant',\n",
       " 'Rising Pune Supergiants',\n",
       " 'Royal Challengers Bangalore',\n",
       " 'Sunrisers Hyderabad'}"
      ]
     },
     "execution_count": 16,
     "metadata": {},
     "output_type": "execute_result"
    }
   ],
   "source": [
    "set(df[\"team1\"])"
   ]
  },
  {
   "cell_type": "markdown",
   "id": "489f635b",
   "metadata": {},
   "source": [
    "As Rising Pune Supergiants and Rising Pune Supergiant are same teams with a difference of small 's', we conclude"
   ]
  },
  {
   "cell_type": "markdown",
   "id": "594fd475",
   "metadata": {},
   "source": [
    "No. of IPL teams registeted till 2020 are 14."
   ]
  },
  {
   "cell_type": "markdown",
   "id": "a610a38e",
   "metadata": {},
   "source": [
    "# Cleaning & Preprocessing the data"
   ]
  },
  {
   "cell_type": "markdown",
   "id": "5ad62dcf",
   "metadata": {},
   "source": [
    "Lets Replace All Rising Pune Supergiant as Rising Pune Supergiants"
   ]
  },
  {
   "cell_type": "code",
   "execution_count": 17,
   "id": "189872e5",
   "metadata": {},
   "outputs": [],
   "source": [
    "# This command is used replace all wrong values with correct ones.\n",
    "df = df.replace(to_replace=\"Rising Pune Supergiant\",value=\"Rising Pune Supergiants\")"
   ]
  },
  {
   "cell_type": "markdown",
   "id": "e47e50ae",
   "metadata": {},
   "source": [
    "Lets work on getting the null values replaced or removed.\n",
    "\n",
    "id                   0\n",
    "\n",
    "city                13\n",
    "\n",
    "date                 0\n",
    "\n",
    "player_of_match      4\n",
    "\n",
    "venue                0\n",
    "\n",
    "neutral_venue        0\n",
    "\n",
    "team1                0\n",
    "\n",
    "team2                0\n",
    "\n",
    "toss_winner          0\n",
    "\n",
    "toss_decision        0\n",
    "\n",
    "winner               4\n",
    "\n",
    "result               4\n",
    "\n",
    "result_margin       17\n",
    "\n",
    "eliminator           4\n",
    "\n",
    "method             797\n",
    "\n",
    "umpire1              0\n",
    "\n",
    "umpire2              0\n",
    "\n",
    "dtype: int64"
   ]
  },
  {
   "cell_type": "code",
   "execution_count": 18,
   "id": "49909d0b",
   "metadata": {},
   "outputs": [
    {
     "data": {
      "text/html": [
       "<div>\n",
       "<style scoped>\n",
       "    .dataframe tbody tr th:only-of-type {\n",
       "        vertical-align: middle;\n",
       "    }\n",
       "\n",
       "    .dataframe tbody tr th {\n",
       "        vertical-align: top;\n",
       "    }\n",
       "\n",
       "    .dataframe thead th {\n",
       "        text-align: right;\n",
       "    }\n",
       "</style>\n",
       "<table border=\"1\" class=\"dataframe\">\n",
       "  <thead>\n",
       "    <tr style=\"text-align: right;\">\n",
       "      <th></th>\n",
       "      <th>id</th>\n",
       "      <th>city</th>\n",
       "      <th>date</th>\n",
       "      <th>player_of_match</th>\n",
       "      <th>venue</th>\n",
       "      <th>neutral_venue</th>\n",
       "      <th>team1</th>\n",
       "      <th>team2</th>\n",
       "      <th>toss_winner</th>\n",
       "      <th>toss_decision</th>\n",
       "      <th>winner</th>\n",
       "      <th>result</th>\n",
       "      <th>result_margin</th>\n",
       "      <th>eliminator</th>\n",
       "      <th>method</th>\n",
       "      <th>umpire1</th>\n",
       "      <th>umpire2</th>\n",
       "    </tr>\n",
       "  </thead>\n",
       "  <tbody>\n",
       "    <tr>\n",
       "      <th>399</th>\n",
       "      <td>729281</td>\n",
       "      <td>NaN</td>\n",
       "      <td>2014-04-17</td>\n",
       "      <td>YS Chahal</td>\n",
       "      <td>Sharjah Cricket Stadium</td>\n",
       "      <td>1</td>\n",
       "      <td>Delhi Daredevils</td>\n",
       "      <td>Royal Challengers Bangalore</td>\n",
       "      <td>Royal Challengers Bangalore</td>\n",
       "      <td>field</td>\n",
       "      <td>Royal Challengers Bangalore</td>\n",
       "      <td>wickets</td>\n",
       "      <td>8.0</td>\n",
       "      <td>N</td>\n",
       "      <td>NaN</td>\n",
       "      <td>Aleem Dar</td>\n",
       "      <td>S Ravi</td>\n",
       "    </tr>\n",
       "    <tr>\n",
       "      <th>402</th>\n",
       "      <td>729287</td>\n",
       "      <td>NaN</td>\n",
       "      <td>2014-04-19</td>\n",
       "      <td>PA Patel</td>\n",
       "      <td>Dubai International Cricket Stadium</td>\n",
       "      <td>1</td>\n",
       "      <td>Royal Challengers Bangalore</td>\n",
       "      <td>Mumbai Indians</td>\n",
       "      <td>Royal Challengers Bangalore</td>\n",
       "      <td>field</td>\n",
       "      <td>Royal Challengers Bangalore</td>\n",
       "      <td>wickets</td>\n",
       "      <td>7.0</td>\n",
       "      <td>N</td>\n",
       "      <td>NaN</td>\n",
       "      <td>Aleem Dar</td>\n",
       "      <td>AK Chaudhary</td>\n",
       "    </tr>\n",
       "    <tr>\n",
       "      <th>403</th>\n",
       "      <td>729289</td>\n",
       "      <td>NaN</td>\n",
       "      <td>2014-04-19</td>\n",
       "      <td>JP Duminy</td>\n",
       "      <td>Dubai International Cricket Stadium</td>\n",
       "      <td>1</td>\n",
       "      <td>Kolkata Knight Riders</td>\n",
       "      <td>Delhi Daredevils</td>\n",
       "      <td>Kolkata Knight Riders</td>\n",
       "      <td>bat</td>\n",
       "      <td>Delhi Daredevils</td>\n",
       "      <td>wickets</td>\n",
       "      <td>4.0</td>\n",
       "      <td>N</td>\n",
       "      <td>NaN</td>\n",
       "      <td>Aleem Dar</td>\n",
       "      <td>VA Kulkarni</td>\n",
       "    </tr>\n",
       "    <tr>\n",
       "      <th>404</th>\n",
       "      <td>729291</td>\n",
       "      <td>NaN</td>\n",
       "      <td>2014-04-20</td>\n",
       "      <td>GJ Maxwell</td>\n",
       "      <td>Sharjah Cricket Stadium</td>\n",
       "      <td>1</td>\n",
       "      <td>Rajasthan Royals</td>\n",
       "      <td>Kings XI Punjab</td>\n",
       "      <td>Kings XI Punjab</td>\n",
       "      <td>field</td>\n",
       "      <td>Kings XI Punjab</td>\n",
       "      <td>wickets</td>\n",
       "      <td>7.0</td>\n",
       "      <td>N</td>\n",
       "      <td>NaN</td>\n",
       "      <td>BF Bowden</td>\n",
       "      <td>M Erasmus</td>\n",
       "    </tr>\n",
       "    <tr>\n",
       "      <th>406</th>\n",
       "      <td>729295</td>\n",
       "      <td>NaN</td>\n",
       "      <td>2014-04-22</td>\n",
       "      <td>GJ Maxwell</td>\n",
       "      <td>Sharjah Cricket Stadium</td>\n",
       "      <td>1</td>\n",
       "      <td>Kings XI Punjab</td>\n",
       "      <td>Sunrisers Hyderabad</td>\n",
       "      <td>Sunrisers Hyderabad</td>\n",
       "      <td>field</td>\n",
       "      <td>Kings XI Punjab</td>\n",
       "      <td>runs</td>\n",
       "      <td>72.0</td>\n",
       "      <td>N</td>\n",
       "      <td>NaN</td>\n",
       "      <td>M Erasmus</td>\n",
       "      <td>S Ravi</td>\n",
       "    </tr>\n",
       "    <tr>\n",
       "      <th>407</th>\n",
       "      <td>729297</td>\n",
       "      <td>NaN</td>\n",
       "      <td>2014-04-23</td>\n",
       "      <td>RA Jadeja</td>\n",
       "      <td>Dubai International Cricket Stadium</td>\n",
       "      <td>1</td>\n",
       "      <td>Rajasthan Royals</td>\n",
       "      <td>Chennai Super Kings</td>\n",
       "      <td>Rajasthan Royals</td>\n",
       "      <td>field</td>\n",
       "      <td>Chennai Super Kings</td>\n",
       "      <td>runs</td>\n",
       "      <td>7.0</td>\n",
       "      <td>N</td>\n",
       "      <td>NaN</td>\n",
       "      <td>HDPK Dharmasena</td>\n",
       "      <td>RK Illingworth</td>\n",
       "    </tr>\n",
       "    <tr>\n",
       "      <th>408</th>\n",
       "      <td>729299</td>\n",
       "      <td>NaN</td>\n",
       "      <td>2014-04-24</td>\n",
       "      <td>CA Lynn</td>\n",
       "      <td>Sharjah Cricket Stadium</td>\n",
       "      <td>1</td>\n",
       "      <td>Royal Challengers Bangalore</td>\n",
       "      <td>Kolkata Knight Riders</td>\n",
       "      <td>Royal Challengers Bangalore</td>\n",
       "      <td>field</td>\n",
       "      <td>Kolkata Knight Riders</td>\n",
       "      <td>runs</td>\n",
       "      <td>2.0</td>\n",
       "      <td>N</td>\n",
       "      <td>NaN</td>\n",
       "      <td>Aleem Dar</td>\n",
       "      <td>VA Kulkarni</td>\n",
       "    </tr>\n",
       "    <tr>\n",
       "      <th>409</th>\n",
       "      <td>729301</td>\n",
       "      <td>NaN</td>\n",
       "      <td>2014-04-25</td>\n",
       "      <td>AJ Finch</td>\n",
       "      <td>Dubai International Cricket Stadium</td>\n",
       "      <td>1</td>\n",
       "      <td>Sunrisers Hyderabad</td>\n",
       "      <td>Delhi Daredevils</td>\n",
       "      <td>Sunrisers Hyderabad</td>\n",
       "      <td>bat</td>\n",
       "      <td>Sunrisers Hyderabad</td>\n",
       "      <td>runs</td>\n",
       "      <td>4.0</td>\n",
       "      <td>N</td>\n",
       "      <td>NaN</td>\n",
       "      <td>M Erasmus</td>\n",
       "      <td>S Ravi</td>\n",
       "    </tr>\n",
       "    <tr>\n",
       "      <th>410</th>\n",
       "      <td>729303</td>\n",
       "      <td>NaN</td>\n",
       "      <td>2014-04-25</td>\n",
       "      <td>MM Sharma</td>\n",
       "      <td>Dubai International Cricket Stadium</td>\n",
       "      <td>1</td>\n",
       "      <td>Chennai Super Kings</td>\n",
       "      <td>Mumbai Indians</td>\n",
       "      <td>Mumbai Indians</td>\n",
       "      <td>bat</td>\n",
       "      <td>Chennai Super Kings</td>\n",
       "      <td>wickets</td>\n",
       "      <td>7.0</td>\n",
       "      <td>N</td>\n",
       "      <td>NaN</td>\n",
       "      <td>BF Bowden</td>\n",
       "      <td>M Erasmus</td>\n",
       "    </tr>\n",
       "    <tr>\n",
       "      <th>413</th>\n",
       "      <td>729309</td>\n",
       "      <td>NaN</td>\n",
       "      <td>2014-04-27</td>\n",
       "      <td>M Vijay</td>\n",
       "      <td>Sharjah Cricket Stadium</td>\n",
       "      <td>1</td>\n",
       "      <td>Delhi Daredevils</td>\n",
       "      <td>Mumbai Indians</td>\n",
       "      <td>Mumbai Indians</td>\n",
       "      <td>bat</td>\n",
       "      <td>Delhi Daredevils</td>\n",
       "      <td>wickets</td>\n",
       "      <td>6.0</td>\n",
       "      <td>N</td>\n",
       "      <td>NaN</td>\n",
       "      <td>Aleem Dar</td>\n",
       "      <td>VA Kulkarni</td>\n",
       "    </tr>\n",
       "    <tr>\n",
       "      <th>414</th>\n",
       "      <td>729311</td>\n",
       "      <td>NaN</td>\n",
       "      <td>2014-04-27</td>\n",
       "      <td>DR Smith</td>\n",
       "      <td>Sharjah Cricket Stadium</td>\n",
       "      <td>1</td>\n",
       "      <td>Sunrisers Hyderabad</td>\n",
       "      <td>Chennai Super Kings</td>\n",
       "      <td>Sunrisers Hyderabad</td>\n",
       "      <td>bat</td>\n",
       "      <td>Chennai Super Kings</td>\n",
       "      <td>wickets</td>\n",
       "      <td>5.0</td>\n",
       "      <td>N</td>\n",
       "      <td>NaN</td>\n",
       "      <td>AK Chaudhary</td>\n",
       "      <td>VA Kulkarni</td>\n",
       "    </tr>\n",
       "    <tr>\n",
       "      <th>415</th>\n",
       "      <td>729313</td>\n",
       "      <td>NaN</td>\n",
       "      <td>2014-04-28</td>\n",
       "      <td>Sandeep Sharma</td>\n",
       "      <td>Dubai International Cricket Stadium</td>\n",
       "      <td>1</td>\n",
       "      <td>Kings XI Punjab</td>\n",
       "      <td>Royal Challengers Bangalore</td>\n",
       "      <td>Kings XI Punjab</td>\n",
       "      <td>field</td>\n",
       "      <td>Kings XI Punjab</td>\n",
       "      <td>wickets</td>\n",
       "      <td>5.0</td>\n",
       "      <td>N</td>\n",
       "      <td>NaN</td>\n",
       "      <td>BF Bowden</td>\n",
       "      <td>S Ravi</td>\n",
       "    </tr>\n",
       "    <tr>\n",
       "      <th>417</th>\n",
       "      <td>729317</td>\n",
       "      <td>NaN</td>\n",
       "      <td>2014-04-30</td>\n",
       "      <td>B Kumar</td>\n",
       "      <td>Dubai International Cricket Stadium</td>\n",
       "      <td>1</td>\n",
       "      <td>Mumbai Indians</td>\n",
       "      <td>Sunrisers Hyderabad</td>\n",
       "      <td>Mumbai Indians</td>\n",
       "      <td>field</td>\n",
       "      <td>Sunrisers Hyderabad</td>\n",
       "      <td>runs</td>\n",
       "      <td>15.0</td>\n",
       "      <td>N</td>\n",
       "      <td>NaN</td>\n",
       "      <td>HDPK Dharmasena</td>\n",
       "      <td>M Erasmus</td>\n",
       "    </tr>\n",
       "  </tbody>\n",
       "</table>\n",
       "</div>"
      ],
      "text/plain": [
       "         id city        date player_of_match  \\\n",
       "399  729281  NaN  2014-04-17       YS Chahal   \n",
       "402  729287  NaN  2014-04-19        PA Patel   \n",
       "403  729289  NaN  2014-04-19       JP Duminy   \n",
       "404  729291  NaN  2014-04-20      GJ Maxwell   \n",
       "406  729295  NaN  2014-04-22      GJ Maxwell   \n",
       "407  729297  NaN  2014-04-23       RA Jadeja   \n",
       "408  729299  NaN  2014-04-24         CA Lynn   \n",
       "409  729301  NaN  2014-04-25        AJ Finch   \n",
       "410  729303  NaN  2014-04-25       MM Sharma   \n",
       "413  729309  NaN  2014-04-27         M Vijay   \n",
       "414  729311  NaN  2014-04-27        DR Smith   \n",
       "415  729313  NaN  2014-04-28  Sandeep Sharma   \n",
       "417  729317  NaN  2014-04-30         B Kumar   \n",
       "\n",
       "                                   venue  neutral_venue  \\\n",
       "399              Sharjah Cricket Stadium              1   \n",
       "402  Dubai International Cricket Stadium              1   \n",
       "403  Dubai International Cricket Stadium              1   \n",
       "404              Sharjah Cricket Stadium              1   \n",
       "406              Sharjah Cricket Stadium              1   \n",
       "407  Dubai International Cricket Stadium              1   \n",
       "408              Sharjah Cricket Stadium              1   \n",
       "409  Dubai International Cricket Stadium              1   \n",
       "410  Dubai International Cricket Stadium              1   \n",
       "413              Sharjah Cricket Stadium              1   \n",
       "414              Sharjah Cricket Stadium              1   \n",
       "415  Dubai International Cricket Stadium              1   \n",
       "417  Dubai International Cricket Stadium              1   \n",
       "\n",
       "                           team1                        team2  \\\n",
       "399             Delhi Daredevils  Royal Challengers Bangalore   \n",
       "402  Royal Challengers Bangalore               Mumbai Indians   \n",
       "403        Kolkata Knight Riders             Delhi Daredevils   \n",
       "404             Rajasthan Royals              Kings XI Punjab   \n",
       "406              Kings XI Punjab          Sunrisers Hyderabad   \n",
       "407             Rajasthan Royals          Chennai Super Kings   \n",
       "408  Royal Challengers Bangalore        Kolkata Knight Riders   \n",
       "409          Sunrisers Hyderabad             Delhi Daredevils   \n",
       "410          Chennai Super Kings               Mumbai Indians   \n",
       "413             Delhi Daredevils               Mumbai Indians   \n",
       "414          Sunrisers Hyderabad          Chennai Super Kings   \n",
       "415              Kings XI Punjab  Royal Challengers Bangalore   \n",
       "417               Mumbai Indians          Sunrisers Hyderabad   \n",
       "\n",
       "                     toss_winner toss_decision                       winner  \\\n",
       "399  Royal Challengers Bangalore         field  Royal Challengers Bangalore   \n",
       "402  Royal Challengers Bangalore         field  Royal Challengers Bangalore   \n",
       "403        Kolkata Knight Riders           bat             Delhi Daredevils   \n",
       "404              Kings XI Punjab         field              Kings XI Punjab   \n",
       "406          Sunrisers Hyderabad         field              Kings XI Punjab   \n",
       "407             Rajasthan Royals         field          Chennai Super Kings   \n",
       "408  Royal Challengers Bangalore         field        Kolkata Knight Riders   \n",
       "409          Sunrisers Hyderabad           bat          Sunrisers Hyderabad   \n",
       "410               Mumbai Indians           bat          Chennai Super Kings   \n",
       "413               Mumbai Indians           bat             Delhi Daredevils   \n",
       "414          Sunrisers Hyderabad           bat          Chennai Super Kings   \n",
       "415              Kings XI Punjab         field              Kings XI Punjab   \n",
       "417               Mumbai Indians         field          Sunrisers Hyderabad   \n",
       "\n",
       "      result  result_margin eliminator method          umpire1         umpire2  \n",
       "399  wickets            8.0          N    NaN        Aleem Dar          S Ravi  \n",
       "402  wickets            7.0          N    NaN        Aleem Dar    AK Chaudhary  \n",
       "403  wickets            4.0          N    NaN        Aleem Dar     VA Kulkarni  \n",
       "404  wickets            7.0          N    NaN        BF Bowden       M Erasmus  \n",
       "406     runs           72.0          N    NaN        M Erasmus          S Ravi  \n",
       "407     runs            7.0          N    NaN  HDPK Dharmasena  RK Illingworth  \n",
       "408     runs            2.0          N    NaN        Aleem Dar     VA Kulkarni  \n",
       "409     runs            4.0          N    NaN        M Erasmus          S Ravi  \n",
       "410  wickets            7.0          N    NaN        BF Bowden       M Erasmus  \n",
       "413  wickets            6.0          N    NaN        Aleem Dar     VA Kulkarni  \n",
       "414  wickets            5.0          N    NaN     AK Chaudhary     VA Kulkarni  \n",
       "415  wickets            5.0          N    NaN        BF Bowden          S Ravi  \n",
       "417     runs           15.0          N    NaN  HDPK Dharmasena       M Erasmus  "
      ]
     },
     "execution_count": 18,
     "metadata": {},
     "output_type": "execute_result"
    }
   ],
   "source": [
    "# This command is used to check the row values with city value as null.\n",
    "df[df['city'].isna()]"
   ]
  },
  {
   "cell_type": "markdown",
   "id": "b51f06ae",
   "metadata": {},
   "source": [
    "It is visible that 13 rows has city column empty and all are from the year 2014 with venue as UAE.\n",
    "With the original data, It is clearly visible that for Dubai International Cricket Stadium city is Dubai and for Sharjah Cricket Stadium it is Sharjan."
   ]
  },
  {
   "cell_type": "markdown",
   "id": "2c3e5ea4",
   "metadata": {},
   "source": [
    "So now we will rectify these 13 rows with missing city values."
   ]
  },
  {
   "cell_type": "code",
   "execution_count": 19,
   "id": "d78d7eb9",
   "metadata": {},
   "outputs": [
    {
     "name": "stderr",
     "output_type": "stream",
     "text": [
      "C:\\Users\\hp\\AppData\\Local\\Temp\\ipykernel_13948\\3597706122.py:4: SettingWithCopyWarning: \n",
      "A value is trying to be set on a copy of a slice from a DataFrame.\n",
      "Try using .loc[row_indexer,col_indexer] = value instead\n",
      "\n",
      "See the caveats in the documentation: https://pandas.pydata.org/pandas-docs/stable/user_guide/indexing.html#returning-a-view-versus-a-copy\n",
      "C:\\Users\\hp\\AppData\\Local\\Temp\\ipykernel_13948\\3597706122.py:6: SettingWithCopyWarning: \n",
      "A value is trying to be set on a copy of a slice from a DataFrame.\n",
      "Try using .loc[row_indexer,col_indexer] = value instead\n",
      "\n",
      "See the caveats in the documentation: https://pandas.pydata.org/pandas-docs/stable/user_guide/indexing.html#returning-a-view-versus-a-copy\n"
     ]
    }
   ],
   "source": [
    "# Updated missing city row values and original dataset is updated\n",
    "na_value_city = df[df['city'].isna()]\n",
    "na_value_city_dubai= na_value_city.loc[df['venue'] == 'Dubai International Cricket Stadium']\n",
    "na_value_city_dubai['city'] = na_value_city_dubai['city'].fillna(\"Dubai\")\n",
    "na_value_city_sharjan = na_value_city.loc[df['venue'] == 'Sharjah Cricket Stadium']\n",
    "na_value_city_sharjan['city'] = na_value_city_sharjan['city'].fillna(\"Sharjan\")\n",
    "df.update(na_value_city_dubai)\n",
    "df.update(na_value_city_sharjan)"
   ]
  },
  {
   "cell_type": "markdown",
   "id": "a9f31024",
   "metadata": {},
   "source": [
    "Lets see player_of_match now "
   ]
  },
  {
   "cell_type": "code",
   "execution_count": 20,
   "id": "537ba7e5",
   "metadata": {},
   "outputs": [
    {
     "data": {
      "text/html": [
       "<div>\n",
       "<style scoped>\n",
       "    .dataframe tbody tr th:only-of-type {\n",
       "        vertical-align: middle;\n",
       "    }\n",
       "\n",
       "    .dataframe tbody tr th {\n",
       "        vertical-align: top;\n",
       "    }\n",
       "\n",
       "    .dataframe thead th {\n",
       "        text-align: right;\n",
       "    }\n",
       "</style>\n",
       "<table border=\"1\" class=\"dataframe\">\n",
       "  <thead>\n",
       "    <tr style=\"text-align: right;\">\n",
       "      <th></th>\n",
       "      <th>id</th>\n",
       "      <th>city</th>\n",
       "      <th>date</th>\n",
       "      <th>player_of_match</th>\n",
       "      <th>venue</th>\n",
       "      <th>neutral_venue</th>\n",
       "      <th>team1</th>\n",
       "      <th>team2</th>\n",
       "      <th>toss_winner</th>\n",
       "      <th>toss_decision</th>\n",
       "      <th>winner</th>\n",
       "      <th>result</th>\n",
       "      <th>result_margin</th>\n",
       "      <th>eliminator</th>\n",
       "      <th>method</th>\n",
       "      <th>umpire1</th>\n",
       "      <th>umpire2</th>\n",
       "    </tr>\n",
       "  </thead>\n",
       "  <tbody>\n",
       "    <tr>\n",
       "      <th>241</th>\n",
       "      <td>501265.0</td>\n",
       "      <td>Delhi</td>\n",
       "      <td>2011-05-21</td>\n",
       "      <td>NaN</td>\n",
       "      <td>Feroz Shah Kotla</td>\n",
       "      <td>0.0</td>\n",
       "      <td>Delhi Daredevils</td>\n",
       "      <td>Pune Warriors</td>\n",
       "      <td>Delhi Daredevils</td>\n",
       "      <td>bat</td>\n",
       "      <td>NaN</td>\n",
       "      <td>NaN</td>\n",
       "      <td>NaN</td>\n",
       "      <td>NaN</td>\n",
       "      <td>NaN</td>\n",
       "      <td>SS Hazare</td>\n",
       "      <td>RJ Tucker</td>\n",
       "    </tr>\n",
       "    <tr>\n",
       "      <th>486</th>\n",
       "      <td>829763.0</td>\n",
       "      <td>Bangalore</td>\n",
       "      <td>2015-04-29</td>\n",
       "      <td>NaN</td>\n",
       "      <td>M Chinnaswamy Stadium</td>\n",
       "      <td>0.0</td>\n",
       "      <td>Royal Challengers Bangalore</td>\n",
       "      <td>Rajasthan Royals</td>\n",
       "      <td>Rajasthan Royals</td>\n",
       "      <td>field</td>\n",
       "      <td>NaN</td>\n",
       "      <td>NaN</td>\n",
       "      <td>NaN</td>\n",
       "      <td>NaN</td>\n",
       "      <td>NaN</td>\n",
       "      <td>JD Cloete</td>\n",
       "      <td>PG Pathak</td>\n",
       "    </tr>\n",
       "    <tr>\n",
       "      <th>511</th>\n",
       "      <td>829813.0</td>\n",
       "      <td>Bangalore</td>\n",
       "      <td>2015-05-17</td>\n",
       "      <td>NaN</td>\n",
       "      <td>M Chinnaswamy Stadium</td>\n",
       "      <td>0.0</td>\n",
       "      <td>Royal Challengers Bangalore</td>\n",
       "      <td>Delhi Daredevils</td>\n",
       "      <td>Royal Challengers Bangalore</td>\n",
       "      <td>field</td>\n",
       "      <td>NaN</td>\n",
       "      <td>NaN</td>\n",
       "      <td>NaN</td>\n",
       "      <td>NaN</td>\n",
       "      <td>NaN</td>\n",
       "      <td>HDPK Dharmasena</td>\n",
       "      <td>K Srinivasan</td>\n",
       "    </tr>\n",
       "    <tr>\n",
       "      <th>744</th>\n",
       "      <td>1178424.0</td>\n",
       "      <td>Bengaluru</td>\n",
       "      <td>2019-04-30</td>\n",
       "      <td>NaN</td>\n",
       "      <td>M.Chinnaswamy Stadium</td>\n",
       "      <td>0.0</td>\n",
       "      <td>Royal Challengers Bangalore</td>\n",
       "      <td>Rajasthan Royals</td>\n",
       "      <td>Rajasthan Royals</td>\n",
       "      <td>field</td>\n",
       "      <td>NaN</td>\n",
       "      <td>NaN</td>\n",
       "      <td>NaN</td>\n",
       "      <td>NaN</td>\n",
       "      <td>NaN</td>\n",
       "      <td>UV Gandhe</td>\n",
       "      <td>NJ Llong</td>\n",
       "    </tr>\n",
       "  </tbody>\n",
       "</table>\n",
       "</div>"
      ],
      "text/plain": [
       "            id       city        date player_of_match                  venue  \\\n",
       "241   501265.0      Delhi  2011-05-21             NaN       Feroz Shah Kotla   \n",
       "486   829763.0  Bangalore  2015-04-29             NaN  M Chinnaswamy Stadium   \n",
       "511   829813.0  Bangalore  2015-05-17             NaN  M Chinnaswamy Stadium   \n",
       "744  1178424.0  Bengaluru  2019-04-30             NaN  M.Chinnaswamy Stadium   \n",
       "\n",
       "     neutral_venue                        team1             team2  \\\n",
       "241            0.0             Delhi Daredevils     Pune Warriors   \n",
       "486            0.0  Royal Challengers Bangalore  Rajasthan Royals   \n",
       "511            0.0  Royal Challengers Bangalore  Delhi Daredevils   \n",
       "744            0.0  Royal Challengers Bangalore  Rajasthan Royals   \n",
       "\n",
       "                     toss_winner toss_decision winner result  result_margin  \\\n",
       "241             Delhi Daredevils           bat    NaN    NaN            NaN   \n",
       "486             Rajasthan Royals         field    NaN    NaN            NaN   \n",
       "511  Royal Challengers Bangalore         field    NaN    NaN            NaN   \n",
       "744             Rajasthan Royals         field    NaN    NaN            NaN   \n",
       "\n",
       "    eliminator method          umpire1       umpire2  \n",
       "241        NaN    NaN        SS Hazare     RJ Tucker  \n",
       "486        NaN    NaN        JD Cloete     PG Pathak  \n",
       "511        NaN    NaN  HDPK Dharmasena  K Srinivasan  \n",
       "744        NaN    NaN        UV Gandhe      NJ Llong  "
      ]
     },
     "execution_count": 20,
     "metadata": {},
     "output_type": "execute_result"
    }
   ],
   "source": [
    "# This command is used to check the row values with player_of_match value as null.\n",
    "player_of_match_null = df[df['player_of_match'].isna()]\n",
    "player_of_match_null"
   ]
  },
  {
   "cell_type": "markdown",
   "id": "56a9004f",
   "metadata": {},
   "source": [
    "We have 4 rows with NA as player_of_match. These are also the matches which were abandoned due to rain or bad weather which is one of the most common reason."
   ]
  },
  {
   "cell_type": "markdown",
   "id": "d1c0b903",
   "metadata": {},
   "source": [
    "We will delete these data as many of the rows values are NA."
   ]
  },
  {
   "cell_type": "code",
   "execution_count": 21,
   "id": "98576eef",
   "metadata": {},
   "outputs": [],
   "source": [
    "# This command is used to get indexes of row values with player_of_match value as null.\n",
    "index = player_of_match_null.index"
   ]
  },
  {
   "cell_type": "code",
   "execution_count": 22,
   "id": "32446b54",
   "metadata": {},
   "outputs": [],
   "source": [
    "# This command is used to drop rows with specific indexes. ( axis = 0(row) , axis= 1(column))\n",
    "df.drop(index,axis=0, inplace=True)"
   ]
  },
  {
   "cell_type": "markdown",
   "id": "7756b2dc",
   "metadata": {},
   "source": [
    "### Tied Matches"
   ]
  },
  {
   "cell_type": "code",
   "execution_count": 23,
   "id": "a892b2c5",
   "metadata": {},
   "outputs": [
    {
     "data": {
      "text/html": [
       "<div>\n",
       "<style scoped>\n",
       "    .dataframe tbody tr th:only-of-type {\n",
       "        vertical-align: middle;\n",
       "    }\n",
       "\n",
       "    .dataframe tbody tr th {\n",
       "        vertical-align: top;\n",
       "    }\n",
       "\n",
       "    .dataframe thead th {\n",
       "        text-align: right;\n",
       "    }\n",
       "</style>\n",
       "<table border=\"1\" class=\"dataframe\">\n",
       "  <thead>\n",
       "    <tr style=\"text-align: right;\">\n",
       "      <th></th>\n",
       "      <th>id</th>\n",
       "      <th>city</th>\n",
       "      <th>date</th>\n",
       "      <th>player_of_match</th>\n",
       "      <th>venue</th>\n",
       "      <th>neutral_venue</th>\n",
       "      <th>team1</th>\n",
       "      <th>team2</th>\n",
       "      <th>toss_winner</th>\n",
       "      <th>toss_decision</th>\n",
       "      <th>winner</th>\n",
       "      <th>result</th>\n",
       "      <th>result_margin</th>\n",
       "      <th>eliminator</th>\n",
       "      <th>method</th>\n",
       "      <th>umpire1</th>\n",
       "      <th>umpire2</th>\n",
       "    </tr>\n",
       "  </thead>\n",
       "  <tbody>\n",
       "    <tr>\n",
       "      <th>66</th>\n",
       "      <td>392190.0</td>\n",
       "      <td>Cape Town</td>\n",
       "      <td>2009-04-23</td>\n",
       "      <td>YK Pathan</td>\n",
       "      <td>Newlands</td>\n",
       "      <td>1.0</td>\n",
       "      <td>Kolkata Knight Riders</td>\n",
       "      <td>Rajasthan Royals</td>\n",
       "      <td>Kolkata Knight Riders</td>\n",
       "      <td>field</td>\n",
       "      <td>Rajasthan Royals</td>\n",
       "      <td>tie</td>\n",
       "      <td>NaN</td>\n",
       "      <td>Y</td>\n",
       "      <td>NaN</td>\n",
       "      <td>MR Benson</td>\n",
       "      <td>M Erasmus</td>\n",
       "    </tr>\n",
       "    <tr>\n",
       "      <th>130</th>\n",
       "      <td>419121.0</td>\n",
       "      <td>Chennai</td>\n",
       "      <td>2010-03-21</td>\n",
       "      <td>J Theron</td>\n",
       "      <td>MA Chidambaram Stadium, Chepauk</td>\n",
       "      <td>0.0</td>\n",
       "      <td>Chennai Super Kings</td>\n",
       "      <td>Kings XI Punjab</td>\n",
       "      <td>Chennai Super Kings</td>\n",
       "      <td>field</td>\n",
       "      <td>Kings XI Punjab</td>\n",
       "      <td>tie</td>\n",
       "      <td>NaN</td>\n",
       "      <td>Y</td>\n",
       "      <td>NaN</td>\n",
       "      <td>K Hariharan</td>\n",
       "      <td>DJ Harper</td>\n",
       "    </tr>\n",
       "    <tr>\n",
       "      <th>328</th>\n",
       "      <td>598004.0</td>\n",
       "      <td>Hyderabad</td>\n",
       "      <td>2013-04-07</td>\n",
       "      <td>GH Vihari</td>\n",
       "      <td>Rajiv Gandhi International Stadium, Uppal</td>\n",
       "      <td>0.0</td>\n",
       "      <td>Sunrisers Hyderabad</td>\n",
       "      <td>Royal Challengers Bangalore</td>\n",
       "      <td>Royal Challengers Bangalore</td>\n",
       "      <td>bat</td>\n",
       "      <td>Sunrisers Hyderabad</td>\n",
       "      <td>tie</td>\n",
       "      <td>NaN</td>\n",
       "      <td>Y</td>\n",
       "      <td>NaN</td>\n",
       "      <td>AK Chaudhary</td>\n",
       "      <td>S Ravi</td>\n",
       "    </tr>\n",
       "    <tr>\n",
       "      <th>341</th>\n",
       "      <td>598017.0</td>\n",
       "      <td>Bangalore</td>\n",
       "      <td>2013-04-16</td>\n",
       "      <td>V Kohli</td>\n",
       "      <td>M Chinnaswamy Stadium</td>\n",
       "      <td>0.0</td>\n",
       "      <td>Royal Challengers Bangalore</td>\n",
       "      <td>Delhi Daredevils</td>\n",
       "      <td>Royal Challengers Bangalore</td>\n",
       "      <td>field</td>\n",
       "      <td>Royal Challengers Bangalore</td>\n",
       "      <td>tie</td>\n",
       "      <td>NaN</td>\n",
       "      <td>Y</td>\n",
       "      <td>NaN</td>\n",
       "      <td>M Erasmus</td>\n",
       "      <td>VA Kulkarni</td>\n",
       "    </tr>\n",
       "    <tr>\n",
       "      <th>416</th>\n",
       "      <td>729315.0</td>\n",
       "      <td>Abu Dhabi</td>\n",
       "      <td>2014-04-29</td>\n",
       "      <td>JP Faulkner</td>\n",
       "      <td>Sheikh Zayed Stadium</td>\n",
       "      <td>1.0</td>\n",
       "      <td>Kolkata Knight Riders</td>\n",
       "      <td>Rajasthan Royals</td>\n",
       "      <td>Rajasthan Royals</td>\n",
       "      <td>bat</td>\n",
       "      <td>Rajasthan Royals</td>\n",
       "      <td>tie</td>\n",
       "      <td>NaN</td>\n",
       "      <td>Y</td>\n",
       "      <td>NaN</td>\n",
       "      <td>Aleem Dar</td>\n",
       "      <td>AK Chaudhary</td>\n",
       "    </tr>\n",
       "    <tr>\n",
       "      <th>476</th>\n",
       "      <td>829741.0</td>\n",
       "      <td>Ahmedabad</td>\n",
       "      <td>2015-04-21</td>\n",
       "      <td>SE Marsh</td>\n",
       "      <td>Sardar Patel Stadium, Motera</td>\n",
       "      <td>0.0</td>\n",
       "      <td>Rajasthan Royals</td>\n",
       "      <td>Kings XI Punjab</td>\n",
       "      <td>Kings XI Punjab</td>\n",
       "      <td>field</td>\n",
       "      <td>Kings XI Punjab</td>\n",
       "      <td>tie</td>\n",
       "      <td>NaN</td>\n",
       "      <td>Y</td>\n",
       "      <td>NaN</td>\n",
       "      <td>M Erasmus</td>\n",
       "      <td>S Ravi</td>\n",
       "    </tr>\n",
       "    <tr>\n",
       "      <th>610</th>\n",
       "      <td>1082625.0</td>\n",
       "      <td>Rajkot</td>\n",
       "      <td>2017-04-29</td>\n",
       "      <td>KH Pandya</td>\n",
       "      <td>Saurashtra Cricket Association Stadium</td>\n",
       "      <td>0.0</td>\n",
       "      <td>Gujarat Lions</td>\n",
       "      <td>Mumbai Indians</td>\n",
       "      <td>Gujarat Lions</td>\n",
       "      <td>bat</td>\n",
       "      <td>Mumbai Indians</td>\n",
       "      <td>tie</td>\n",
       "      <td>NaN</td>\n",
       "      <td>Y</td>\n",
       "      <td>NaN</td>\n",
       "      <td>AK Chaudhary</td>\n",
       "      <td>CB Gaffaney</td>\n",
       "    </tr>\n",
       "    <tr>\n",
       "      <th>705</th>\n",
       "      <td>1175365.0</td>\n",
       "      <td>Delhi</td>\n",
       "      <td>2019-03-30</td>\n",
       "      <td>PP Shaw</td>\n",
       "      <td>Feroz Shah Kotla</td>\n",
       "      <td>0.0</td>\n",
       "      <td>Delhi Capitals</td>\n",
       "      <td>Kolkata Knight Riders</td>\n",
       "      <td>Delhi Capitals</td>\n",
       "      <td>field</td>\n",
       "      <td>Delhi Capitals</td>\n",
       "      <td>tie</td>\n",
       "      <td>NaN</td>\n",
       "      <td>Y</td>\n",
       "      <td>NaN</td>\n",
       "      <td>AY Dandekar</td>\n",
       "      <td>Nitin Menon</td>\n",
       "    </tr>\n",
       "    <tr>\n",
       "      <th>746</th>\n",
       "      <td>1178426.0</td>\n",
       "      <td>Mumbai</td>\n",
       "      <td>2019-05-02</td>\n",
       "      <td>JJ Bumrah</td>\n",
       "      <td>Wankhede Stadium</td>\n",
       "      <td>0.0</td>\n",
       "      <td>Mumbai Indians</td>\n",
       "      <td>Sunrisers Hyderabad</td>\n",
       "      <td>Mumbai Indians</td>\n",
       "      <td>bat</td>\n",
       "      <td>Mumbai Indians</td>\n",
       "      <td>tie</td>\n",
       "      <td>NaN</td>\n",
       "      <td>Y</td>\n",
       "      <td>NaN</td>\n",
       "      <td>CK Nandan</td>\n",
       "      <td>S Ravi</td>\n",
       "    </tr>\n",
       "    <tr>\n",
       "      <th>757</th>\n",
       "      <td>1216493.0</td>\n",
       "      <td>Dubai</td>\n",
       "      <td>2020-09-20</td>\n",
       "      <td>MP Stoinis</td>\n",
       "      <td>Dubai International Cricket Stadium</td>\n",
       "      <td>0.0</td>\n",
       "      <td>Delhi Capitals</td>\n",
       "      <td>Kings XI Punjab</td>\n",
       "      <td>Kings XI Punjab</td>\n",
       "      <td>field</td>\n",
       "      <td>Delhi Capitals</td>\n",
       "      <td>tie</td>\n",
       "      <td>NaN</td>\n",
       "      <td>Y</td>\n",
       "      <td>NaN</td>\n",
       "      <td>AK Chaudhary</td>\n",
       "      <td>Nitin Menon</td>\n",
       "    </tr>\n",
       "    <tr>\n",
       "      <th>776</th>\n",
       "      <td>1216512.0</td>\n",
       "      <td>Abu Dhabi</td>\n",
       "      <td>2020-10-18</td>\n",
       "      <td>LH Ferguson</td>\n",
       "      <td>Sheikh Zayed Stadium</td>\n",
       "      <td>0.0</td>\n",
       "      <td>Kolkata Knight Riders</td>\n",
       "      <td>Sunrisers Hyderabad</td>\n",
       "      <td>Sunrisers Hyderabad</td>\n",
       "      <td>field</td>\n",
       "      <td>Kolkata Knight Riders</td>\n",
       "      <td>tie</td>\n",
       "      <td>NaN</td>\n",
       "      <td>Y</td>\n",
       "      <td>NaN</td>\n",
       "      <td>PG Pathak</td>\n",
       "      <td>S Ravi</td>\n",
       "    </tr>\n",
       "    <tr>\n",
       "      <th>781</th>\n",
       "      <td>1216517.0</td>\n",
       "      <td>Dubai</td>\n",
       "      <td>2020-10-18</td>\n",
       "      <td>KL Rahul</td>\n",
       "      <td>Dubai International Cricket Stadium</td>\n",
       "      <td>0.0</td>\n",
       "      <td>Mumbai Indians</td>\n",
       "      <td>Kings XI Punjab</td>\n",
       "      <td>Mumbai Indians</td>\n",
       "      <td>bat</td>\n",
       "      <td>Kings XI Punjab</td>\n",
       "      <td>tie</td>\n",
       "      <td>NaN</td>\n",
       "      <td>Y</td>\n",
       "      <td>NaN</td>\n",
       "      <td>Nitin Menon</td>\n",
       "      <td>PR Reiffel</td>\n",
       "    </tr>\n",
       "    <tr>\n",
       "      <th>811</th>\n",
       "      <td>1216547.0</td>\n",
       "      <td>Dubai</td>\n",
       "      <td>2020-09-28</td>\n",
       "      <td>AB de Villiers</td>\n",
       "      <td>Dubai International Cricket Stadium</td>\n",
       "      <td>0.0</td>\n",
       "      <td>Royal Challengers Bangalore</td>\n",
       "      <td>Mumbai Indians</td>\n",
       "      <td>Mumbai Indians</td>\n",
       "      <td>field</td>\n",
       "      <td>Royal Challengers Bangalore</td>\n",
       "      <td>tie</td>\n",
       "      <td>NaN</td>\n",
       "      <td>Y</td>\n",
       "      <td>NaN</td>\n",
       "      <td>Nitin Menon</td>\n",
       "      <td>PR Reiffel</td>\n",
       "    </tr>\n",
       "  </tbody>\n",
       "</table>\n",
       "</div>"
      ],
      "text/plain": [
       "            id       city        date player_of_match  \\\n",
       "66    392190.0  Cape Town  2009-04-23       YK Pathan   \n",
       "130   419121.0    Chennai  2010-03-21        J Theron   \n",
       "328   598004.0  Hyderabad  2013-04-07       GH Vihari   \n",
       "341   598017.0  Bangalore  2013-04-16         V Kohli   \n",
       "416   729315.0  Abu Dhabi  2014-04-29     JP Faulkner   \n",
       "476   829741.0  Ahmedabad  2015-04-21        SE Marsh   \n",
       "610  1082625.0     Rajkot  2017-04-29       KH Pandya   \n",
       "705  1175365.0      Delhi  2019-03-30         PP Shaw   \n",
       "746  1178426.0     Mumbai  2019-05-02       JJ Bumrah   \n",
       "757  1216493.0      Dubai  2020-09-20      MP Stoinis   \n",
       "776  1216512.0  Abu Dhabi  2020-10-18     LH Ferguson   \n",
       "781  1216517.0      Dubai  2020-10-18        KL Rahul   \n",
       "811  1216547.0      Dubai  2020-09-28  AB de Villiers   \n",
       "\n",
       "                                         venue  neutral_venue  \\\n",
       "66                                    Newlands            1.0   \n",
       "130            MA Chidambaram Stadium, Chepauk            0.0   \n",
       "328  Rajiv Gandhi International Stadium, Uppal            0.0   \n",
       "341                      M Chinnaswamy Stadium            0.0   \n",
       "416                       Sheikh Zayed Stadium            1.0   \n",
       "476               Sardar Patel Stadium, Motera            0.0   \n",
       "610     Saurashtra Cricket Association Stadium            0.0   \n",
       "705                           Feroz Shah Kotla            0.0   \n",
       "746                           Wankhede Stadium            0.0   \n",
       "757        Dubai International Cricket Stadium            0.0   \n",
       "776                       Sheikh Zayed Stadium            0.0   \n",
       "781        Dubai International Cricket Stadium            0.0   \n",
       "811        Dubai International Cricket Stadium            0.0   \n",
       "\n",
       "                           team1                        team2  \\\n",
       "66         Kolkata Knight Riders             Rajasthan Royals   \n",
       "130          Chennai Super Kings              Kings XI Punjab   \n",
       "328          Sunrisers Hyderabad  Royal Challengers Bangalore   \n",
       "341  Royal Challengers Bangalore             Delhi Daredevils   \n",
       "416        Kolkata Knight Riders             Rajasthan Royals   \n",
       "476             Rajasthan Royals              Kings XI Punjab   \n",
       "610                Gujarat Lions               Mumbai Indians   \n",
       "705               Delhi Capitals        Kolkata Knight Riders   \n",
       "746               Mumbai Indians          Sunrisers Hyderabad   \n",
       "757               Delhi Capitals              Kings XI Punjab   \n",
       "776        Kolkata Knight Riders          Sunrisers Hyderabad   \n",
       "781               Mumbai Indians              Kings XI Punjab   \n",
       "811  Royal Challengers Bangalore               Mumbai Indians   \n",
       "\n",
       "                     toss_winner toss_decision                       winner  \\\n",
       "66         Kolkata Knight Riders         field             Rajasthan Royals   \n",
       "130          Chennai Super Kings         field              Kings XI Punjab   \n",
       "328  Royal Challengers Bangalore           bat          Sunrisers Hyderabad   \n",
       "341  Royal Challengers Bangalore         field  Royal Challengers Bangalore   \n",
       "416             Rajasthan Royals           bat             Rajasthan Royals   \n",
       "476              Kings XI Punjab         field              Kings XI Punjab   \n",
       "610                Gujarat Lions           bat               Mumbai Indians   \n",
       "705               Delhi Capitals         field               Delhi Capitals   \n",
       "746               Mumbai Indians           bat               Mumbai Indians   \n",
       "757              Kings XI Punjab         field               Delhi Capitals   \n",
       "776          Sunrisers Hyderabad         field        Kolkata Knight Riders   \n",
       "781               Mumbai Indians           bat              Kings XI Punjab   \n",
       "811               Mumbai Indians         field  Royal Challengers Bangalore   \n",
       "\n",
       "    result  result_margin eliminator method       umpire1       umpire2  \n",
       "66     tie            NaN          Y    NaN     MR Benson     M Erasmus  \n",
       "130    tie            NaN          Y    NaN   K Hariharan     DJ Harper  \n",
       "328    tie            NaN          Y    NaN  AK Chaudhary        S Ravi  \n",
       "341    tie            NaN          Y    NaN     M Erasmus   VA Kulkarni  \n",
       "416    tie            NaN          Y    NaN     Aleem Dar  AK Chaudhary  \n",
       "476    tie            NaN          Y    NaN     M Erasmus        S Ravi  \n",
       "610    tie            NaN          Y    NaN  AK Chaudhary   CB Gaffaney  \n",
       "705    tie            NaN          Y    NaN   AY Dandekar   Nitin Menon  \n",
       "746    tie            NaN          Y    NaN     CK Nandan        S Ravi  \n",
       "757    tie            NaN          Y    NaN  AK Chaudhary   Nitin Menon  \n",
       "776    tie            NaN          Y    NaN     PG Pathak        S Ravi  \n",
       "781    tie            NaN          Y    NaN   Nitin Menon    PR Reiffel  \n",
       "811    tie            NaN          Y    NaN   Nitin Menon    PR Reiffel  "
      ]
     },
     "execution_count": 23,
     "metadata": {},
     "output_type": "execute_result"
    }
   ],
   "source": [
    "# This command is used to check the row values with result_margin value as null.\n",
    "tie_matches = df[df['result_margin'].isna()]\n",
    "tie_matches"
   ]
  },
  {
   "cell_type": "markdown",
   "id": "510c0390",
   "metadata": {},
   "source": [
    "There were 13 matches which were tie and the result wss dependent on Super Over.\n"
   ]
  },
  {
   "cell_type": "code",
   "execution_count": 24,
   "id": "380ac91e",
   "metadata": {},
   "outputs": [
    {
     "name": "stdout",
     "output_type": "stream",
     "text": [
      "Counter({'Kings XI Punjab': 3, 'Rajasthan Royals': 2, 'Royal Challengers Bangalore': 2, 'Mumbai Indians': 2, 'Delhi Capitals': 2, 'Sunrisers Hyderabad': 1, 'Kolkata Knight Riders': 1})\n"
     ]
    }
   ],
   "source": [
    "# This command is used to get a dictionary with highest number of super over wins.\n",
    "print(Counter(tie_matches[\"winner\"]))"
   ]
  },
  {
   "cell_type": "markdown",
   "id": "6202c456",
   "metadata": {},
   "source": [
    "Kings XI Punjab has won highest number of Super Overs.\n"
   ]
  },
  {
   "cell_type": "code",
   "execution_count": 25,
   "id": "216e1735",
   "metadata": {},
   "outputs": [
    {
     "name": "stdout",
     "output_type": "stream",
     "text": [
      "Counter({'Kolkata Knight Riders': 3, 'Royal Challengers Bangalore': 2, 'Delhi Capitals': 2, 'Mumbai Indians': 2, 'Chennai Super Kings': 1, 'Sunrisers Hyderabad': 1, 'Rajasthan Royals': 1, 'Gujarat Lions': 1})\n",
      "Counter({'Kings XI Punjab': 4, 'Rajasthan Royals': 2, 'Mumbai Indians': 2, 'Sunrisers Hyderabad': 2, 'Royal Challengers Bangalore': 1, 'Delhi Daredevils': 1, 'Kolkata Knight Riders': 1})\n"
     ]
    }
   ],
   "source": [
    "# These commands are used to get  dictionaries with highest number of super over matches played.\n",
    "print(Counter(tie_matches[\"team1\"]))\n",
    "print(Counter(tie_matches[\"team2\"]))"
   ]
  },
  {
   "cell_type": "markdown",
   "id": "37f558c6",
   "metadata": {},
   "source": [
    "Kings XI Punjab, Mumbai Indians and Kolkata Knight Riders have played highest number of Super Overs i.e 4."
   ]
  },
  {
   "cell_type": "code",
   "execution_count": 26,
   "id": "e3f18143",
   "metadata": {},
   "outputs": [
    {
     "name": "stdout",
     "output_type": "stream",
     "text": [
      "Counter({'AK Chaudhary': 3, 'M Erasmus': 2, 'Nitin Menon': 2, 'MR Benson': 1, 'K Hariharan': 1, 'Aleem Dar': 1, 'AY Dandekar': 1, 'CK Nandan': 1, 'PG Pathak': 1})\n",
      "Counter({'S Ravi': 4, 'Nitin Menon': 2, 'PR Reiffel': 2, 'M Erasmus': 1, 'DJ Harper': 1, 'VA Kulkarni': 1, 'AK Chaudhary': 1, 'CB Gaffaney': 1})\n"
     ]
    }
   ],
   "source": [
    "# This command is used to get a dictionary with highest number of super over wins.\n",
    "print(Counter(tie_matches[\"umpire1\"]))\n",
    "print(Counter(tie_matches[\"umpire2\"]))"
   ]
  },
  {
   "cell_type": "markdown",
   "id": "7cbc9f0d",
   "metadata": {},
   "source": [
    "S Ravi, Nitin Menon and AK Chaudhary have been umpiring (on-ground) for most number of super-over matches i.e 4."
   ]
  },
  {
   "cell_type": "code",
   "execution_count": 27,
   "id": "ba438b4f",
   "metadata": {},
   "outputs": [
    {
     "name": "stdout",
     "output_type": "stream",
     "text": [
      "Counter({'Dubai International Cricket Stadium': 3, 'Sheikh Zayed Stadium': 2, 'Newlands': 1, 'MA Chidambaram Stadium, Chepauk': 1, 'Rajiv Gandhi International Stadium, Uppal': 1, 'M Chinnaswamy Stadium': 1, 'Sardar Patel Stadium, Motera': 1, 'Saurashtra Cricket Association Stadium': 1, 'Feroz Shah Kotla': 1, 'Wankhede Stadium': 1})\n"
     ]
    }
   ],
   "source": [
    "print(Counter(tie_matches[\"venue\"]))"
   ]
  },
  {
   "cell_type": "markdown",
   "id": "deac5342",
   "metadata": {},
   "source": [
    "Dubai International Cricket Stadium has witnessed most number of super overs i.e 3."
   ]
  },
  {
   "cell_type": "markdown",
   "id": "42515c86",
   "metadata": {},
   "source": [
    "We will delete all data about the tied matches to get better and accurate results on normal matches.\n"
   ]
  },
  {
   "cell_type": "code",
   "execution_count": 28,
   "id": "c97fe386",
   "metadata": {},
   "outputs": [
    {
     "data": {
      "text/plain": [
       "Int64Index([66, 130, 328, 341, 416, 476, 610, 705, 746, 757, 776, 781, 811], dtype='int64')"
      ]
     },
     "execution_count": 28,
     "metadata": {},
     "output_type": "execute_result"
    }
   ],
   "source": [
    "# This command is used to get indexes of row values with result_margin value as null.\n",
    "index1 = tie_matches.index\n",
    "index1"
   ]
  },
  {
   "cell_type": "code",
   "execution_count": 29,
   "id": "9065823e",
   "metadata": {},
   "outputs": [],
   "source": [
    "# This command is used to drop tied matches rows with specific indexes. (axis = 0(row) , axis= 1(column))\n",
    "df.drop(index1,axis=0, inplace=True)"
   ]
  },
  {
   "cell_type": "code",
   "execution_count": 30,
   "id": "211c1db8",
   "metadata": {},
   "outputs": [
    {
     "data": {
      "text/html": [
       "<div>\n",
       "<style scoped>\n",
       "    .dataframe tbody tr th:only-of-type {\n",
       "        vertical-align: middle;\n",
       "    }\n",
       "\n",
       "    .dataframe tbody tr th {\n",
       "        vertical-align: top;\n",
       "    }\n",
       "\n",
       "    .dataframe thead th {\n",
       "        text-align: right;\n",
       "    }\n",
       "</style>\n",
       "<table border=\"1\" class=\"dataframe\">\n",
       "  <thead>\n",
       "    <tr style=\"text-align: right;\">\n",
       "      <th></th>\n",
       "      <th>id</th>\n",
       "      <th>city</th>\n",
       "      <th>date</th>\n",
       "      <th>player_of_match</th>\n",
       "      <th>venue</th>\n",
       "      <th>neutral_venue</th>\n",
       "      <th>team1</th>\n",
       "      <th>team2</th>\n",
       "      <th>toss_winner</th>\n",
       "      <th>toss_decision</th>\n",
       "      <th>winner</th>\n",
       "      <th>result</th>\n",
       "      <th>result_margin</th>\n",
       "      <th>eliminator</th>\n",
       "      <th>method</th>\n",
       "      <th>umpire1</th>\n",
       "      <th>umpire2</th>\n",
       "    </tr>\n",
       "  </thead>\n",
       "  <tbody>\n",
       "    <tr>\n",
       "      <th>40</th>\n",
       "      <td>336022.0</td>\n",
       "      <td>Delhi</td>\n",
       "      <td>2008-05-17</td>\n",
       "      <td>DPMD Jayawardene</td>\n",
       "      <td>Feroz Shah Kotla</td>\n",
       "      <td>0.0</td>\n",
       "      <td>Delhi Daredevils</td>\n",
       "      <td>Kings XI Punjab</td>\n",
       "      <td>Delhi Daredevils</td>\n",
       "      <td>bat</td>\n",
       "      <td>Kings XI Punjab</td>\n",
       "      <td>runs</td>\n",
       "      <td>6.0</td>\n",
       "      <td>N</td>\n",
       "      <td>D/L</td>\n",
       "      <td>AV Jayaprakash</td>\n",
       "      <td>RE Koertzen</td>\n",
       "    </tr>\n",
       "    <tr>\n",
       "      <th>43</th>\n",
       "      <td>336025.0</td>\n",
       "      <td>Kolkata</td>\n",
       "      <td>2008-05-18</td>\n",
       "      <td>M Ntini</td>\n",
       "      <td>Eden Gardens</td>\n",
       "      <td>0.0</td>\n",
       "      <td>Kolkata Knight Riders</td>\n",
       "      <td>Chennai Super Kings</td>\n",
       "      <td>Kolkata Knight Riders</td>\n",
       "      <td>bat</td>\n",
       "      <td>Chennai Super Kings</td>\n",
       "      <td>runs</td>\n",
       "      <td>3.0</td>\n",
       "      <td>N</td>\n",
       "      <td>D/L</td>\n",
       "      <td>Asad Rauf</td>\n",
       "      <td>K Hariharan</td>\n",
       "    </tr>\n",
       "    <tr>\n",
       "      <th>60</th>\n",
       "      <td>392183.0</td>\n",
       "      <td>Cape Town</td>\n",
       "      <td>2009-04-19</td>\n",
       "      <td>DL Vettori</td>\n",
       "      <td>Newlands</td>\n",
       "      <td>1.0</td>\n",
       "      <td>Delhi Daredevils</td>\n",
       "      <td>Kings XI Punjab</td>\n",
       "      <td>Delhi Daredevils</td>\n",
       "      <td>field</td>\n",
       "      <td>Delhi Daredevils</td>\n",
       "      <td>wickets</td>\n",
       "      <td>10.0</td>\n",
       "      <td>N</td>\n",
       "      <td>D/L</td>\n",
       "      <td>MR Benson</td>\n",
       "      <td>SD Ranade</td>\n",
       "    </tr>\n",
       "    <tr>\n",
       "      <th>63</th>\n",
       "      <td>392186.0</td>\n",
       "      <td>Durban</td>\n",
       "      <td>2009-04-21</td>\n",
       "      <td>CH Gayle</td>\n",
       "      <td>Kingsmead</td>\n",
       "      <td>1.0</td>\n",
       "      <td>Kings XI Punjab</td>\n",
       "      <td>Kolkata Knight Riders</td>\n",
       "      <td>Kolkata Knight Riders</td>\n",
       "      <td>field</td>\n",
       "      <td>Kolkata Knight Riders</td>\n",
       "      <td>runs</td>\n",
       "      <td>11.0</td>\n",
       "      <td>N</td>\n",
       "      <td>D/L</td>\n",
       "      <td>DJ Harper</td>\n",
       "      <td>SD Ranade</td>\n",
       "    </tr>\n",
       "    <tr>\n",
       "      <th>89</th>\n",
       "      <td>392214.0</td>\n",
       "      <td>Centurion</td>\n",
       "      <td>2009-05-07</td>\n",
       "      <td>ML Hayden</td>\n",
       "      <td>SuperSport Park</td>\n",
       "      <td>1.0</td>\n",
       "      <td>Chennai Super Kings</td>\n",
       "      <td>Kings XI Punjab</td>\n",
       "      <td>Chennai Super Kings</td>\n",
       "      <td>bat</td>\n",
       "      <td>Chennai Super Kings</td>\n",
       "      <td>runs</td>\n",
       "      <td>12.0</td>\n",
       "      <td>N</td>\n",
       "      <td>D/L</td>\n",
       "      <td>DJ Harper</td>\n",
       "      <td>TH Wijewardene</td>\n",
       "    </tr>\n",
       "    <tr>\n",
       "      <th>192</th>\n",
       "      <td>501215.0</td>\n",
       "      <td>Kochi</td>\n",
       "      <td>2011-04-18</td>\n",
       "      <td>BB McCullum</td>\n",
       "      <td>Nehru Stadium</td>\n",
       "      <td>0.0</td>\n",
       "      <td>Kochi Tuskers Kerala</td>\n",
       "      <td>Chennai Super Kings</td>\n",
       "      <td>Kochi Tuskers Kerala</td>\n",
       "      <td>field</td>\n",
       "      <td>Kochi Tuskers Kerala</td>\n",
       "      <td>wickets</td>\n",
       "      <td>7.0</td>\n",
       "      <td>N</td>\n",
       "      <td>D/L</td>\n",
       "      <td>K Hariharan</td>\n",
       "      <td>AL Hill</td>\n",
       "    </tr>\n",
       "    <tr>\n",
       "      <th>221</th>\n",
       "      <td>501245.0</td>\n",
       "      <td>Kolkata</td>\n",
       "      <td>2011-05-07</td>\n",
       "      <td>Iqbal Abdulla</td>\n",
       "      <td>Eden Gardens</td>\n",
       "      <td>0.0</td>\n",
       "      <td>Kolkata Knight Riders</td>\n",
       "      <td>Chennai Super Kings</td>\n",
       "      <td>Chennai Super Kings</td>\n",
       "      <td>bat</td>\n",
       "      <td>Kolkata Knight Riders</td>\n",
       "      <td>runs</td>\n",
       "      <td>10.0</td>\n",
       "      <td>N</td>\n",
       "      <td>D/L</td>\n",
       "      <td>Asad Rauf</td>\n",
       "      <td>PR Reiffel</td>\n",
       "    </tr>\n",
       "    <tr>\n",
       "      <th>231</th>\n",
       "      <td>501255.0</td>\n",
       "      <td>Bangalore</td>\n",
       "      <td>2011-05-14</td>\n",
       "      <td>CH Gayle</td>\n",
       "      <td>M Chinnaswamy Stadium</td>\n",
       "      <td>0.0</td>\n",
       "      <td>Royal Challengers Bangalore</td>\n",
       "      <td>Kolkata Knight Riders</td>\n",
       "      <td>Royal Challengers Bangalore</td>\n",
       "      <td>field</td>\n",
       "      <td>Royal Challengers Bangalore</td>\n",
       "      <td>wickets</td>\n",
       "      <td>4.0</td>\n",
       "      <td>N</td>\n",
       "      <td>D/L</td>\n",
       "      <td>RE Koertzen</td>\n",
       "      <td>RB Tiffin</td>\n",
       "    </tr>\n",
       "    <tr>\n",
       "      <th>429</th>\n",
       "      <td>733993.0</td>\n",
       "      <td>Delhi</td>\n",
       "      <td>2014-05-10</td>\n",
       "      <td>DW Steyn</td>\n",
       "      <td>Feroz Shah Kotla</td>\n",
       "      <td>0.0</td>\n",
       "      <td>Delhi Daredevils</td>\n",
       "      <td>Sunrisers Hyderabad</td>\n",
       "      <td>Sunrisers Hyderabad</td>\n",
       "      <td>field</td>\n",
       "      <td>Sunrisers Hyderabad</td>\n",
       "      <td>wickets</td>\n",
       "      <td>8.0</td>\n",
       "      <td>N</td>\n",
       "      <td>D/L</td>\n",
       "      <td>RM Deshpande</td>\n",
       "      <td>BNJ Oxenford</td>\n",
       "    </tr>\n",
       "    <tr>\n",
       "      <th>477</th>\n",
       "      <td>829743.0</td>\n",
       "      <td>Visakhapatnam</td>\n",
       "      <td>2015-04-22</td>\n",
       "      <td>DA Warner</td>\n",
       "      <td>Dr. Y.S. Rajasekhara Reddy ACA-VDCA Cricket St...</td>\n",
       "      <td>0.0</td>\n",
       "      <td>Sunrisers Hyderabad</td>\n",
       "      <td>Kolkata Knight Riders</td>\n",
       "      <td>Kolkata Knight Riders</td>\n",
       "      <td>field</td>\n",
       "      <td>Sunrisers Hyderabad</td>\n",
       "      <td>runs</td>\n",
       "      <td>16.0</td>\n",
       "      <td>N</td>\n",
       "      <td>D/L</td>\n",
       "      <td>RK Illingworth</td>\n",
       "      <td>VA Kulkarni</td>\n",
       "    </tr>\n",
       "    <tr>\n",
       "      <th>508</th>\n",
       "      <td>829807.0</td>\n",
       "      <td>Hyderabad</td>\n",
       "      <td>2015-05-15</td>\n",
       "      <td>V Kohli</td>\n",
       "      <td>Rajiv Gandhi International Stadium, Uppal</td>\n",
       "      <td>0.0</td>\n",
       "      <td>Sunrisers Hyderabad</td>\n",
       "      <td>Royal Challengers Bangalore</td>\n",
       "      <td>Sunrisers Hyderabad</td>\n",
       "      <td>bat</td>\n",
       "      <td>Royal Challengers Bangalore</td>\n",
       "      <td>wickets</td>\n",
       "      <td>6.0</td>\n",
       "      <td>N</td>\n",
       "      <td>D/L</td>\n",
       "      <td>AK Chaudhary</td>\n",
       "      <td>HDPK Dharmasena</td>\n",
       "    </tr>\n",
       "    <tr>\n",
       "      <th>538</th>\n",
       "      <td>980943.0</td>\n",
       "      <td>Hyderabad</td>\n",
       "      <td>2016-04-26</td>\n",
       "      <td>AB Dinda</td>\n",
       "      <td>Rajiv Gandhi International Stadium, Uppal</td>\n",
       "      <td>0.0</td>\n",
       "      <td>Sunrisers Hyderabad</td>\n",
       "      <td>Rising Pune Supergiants</td>\n",
       "      <td>Rising Pune Supergiants</td>\n",
       "      <td>field</td>\n",
       "      <td>Rising Pune Supergiants</td>\n",
       "      <td>runs</td>\n",
       "      <td>34.0</td>\n",
       "      <td>N</td>\n",
       "      <td>D/L</td>\n",
       "      <td>AY Dandekar</td>\n",
       "      <td>CK Nandan</td>\n",
       "    </tr>\n",
       "    <tr>\n",
       "      <th>561</th>\n",
       "      <td>980989.0</td>\n",
       "      <td>Kolkata</td>\n",
       "      <td>2016-05-14</td>\n",
       "      <td>YK Pathan</td>\n",
       "      <td>Eden Gardens</td>\n",
       "      <td>0.0</td>\n",
       "      <td>Kolkata Knight Riders</td>\n",
       "      <td>Rising Pune Supergiants</td>\n",
       "      <td>Rising Pune Supergiants</td>\n",
       "      <td>bat</td>\n",
       "      <td>Kolkata Knight Riders</td>\n",
       "      <td>wickets</td>\n",
       "      <td>8.0</td>\n",
       "      <td>N</td>\n",
       "      <td>D/L</td>\n",
       "      <td>A Nand Kishore</td>\n",
       "      <td>BNJ Oxenford</td>\n",
       "    </tr>\n",
       "    <tr>\n",
       "      <th>565</th>\n",
       "      <td>980997.0</td>\n",
       "      <td>Visakhapatnam</td>\n",
       "      <td>2016-05-17</td>\n",
       "      <td>AB Dinda</td>\n",
       "      <td>Dr. Y.S. Rajasekhara Reddy ACA-VDCA Cricket St...</td>\n",
       "      <td>0.0</td>\n",
       "      <td>Rising Pune Supergiants</td>\n",
       "      <td>Delhi Daredevils</td>\n",
       "      <td>Rising Pune Supergiants</td>\n",
       "      <td>field</td>\n",
       "      <td>Rising Pune Supergiants</td>\n",
       "      <td>runs</td>\n",
       "      <td>19.0</td>\n",
       "      <td>N</td>\n",
       "      <td>D/L</td>\n",
       "      <td>Nitin Menon</td>\n",
       "      <td>C Shamshuddin</td>\n",
       "    </tr>\n",
       "    <tr>\n",
       "      <th>566</th>\n",
       "      <td>980999.0</td>\n",
       "      <td>Bangalore</td>\n",
       "      <td>2016-05-18</td>\n",
       "      <td>V Kohli</td>\n",
       "      <td>M Chinnaswamy Stadium</td>\n",
       "      <td>0.0</td>\n",
       "      <td>Royal Challengers Bangalore</td>\n",
       "      <td>Kings XI Punjab</td>\n",
       "      <td>Kings XI Punjab</td>\n",
       "      <td>field</td>\n",
       "      <td>Royal Challengers Bangalore</td>\n",
       "      <td>runs</td>\n",
       "      <td>82.0</td>\n",
       "      <td>N</td>\n",
       "      <td>D/L</td>\n",
       "      <td>KN Ananthapadmanabhan</td>\n",
       "      <td>M Erasmus</td>\n",
       "    </tr>\n",
       "    <tr>\n",
       "      <th>633</th>\n",
       "      <td>1082648.0</td>\n",
       "      <td>Bangalore</td>\n",
       "      <td>2017-05-17</td>\n",
       "      <td>NM Coulter-Nile</td>\n",
       "      <td>M Chinnaswamy Stadium</td>\n",
       "      <td>0.0</td>\n",
       "      <td>Sunrisers Hyderabad</td>\n",
       "      <td>Kolkata Knight Riders</td>\n",
       "      <td>Kolkata Knight Riders</td>\n",
       "      <td>field</td>\n",
       "      <td>Kolkata Knight Riders</td>\n",
       "      <td>wickets</td>\n",
       "      <td>7.0</td>\n",
       "      <td>N</td>\n",
       "      <td>D/L</td>\n",
       "      <td>AK Chaudhary</td>\n",
       "      <td>Nitin Menon</td>\n",
       "    </tr>\n",
       "    <tr>\n",
       "      <th>641</th>\n",
       "      <td>1136566.0</td>\n",
       "      <td>Jaipur</td>\n",
       "      <td>2018-04-11</td>\n",
       "      <td>SV Samson</td>\n",
       "      <td>Sawai Mansingh Stadium</td>\n",
       "      <td>0.0</td>\n",
       "      <td>Rajasthan Royals</td>\n",
       "      <td>Delhi Daredevils</td>\n",
       "      <td>Delhi Daredevils</td>\n",
       "      <td>field</td>\n",
       "      <td>Rajasthan Royals</td>\n",
       "      <td>runs</td>\n",
       "      <td>10.0</td>\n",
       "      <td>N</td>\n",
       "      <td>D/L</td>\n",
       "      <td>KN Ananthapadmanabhan</td>\n",
       "      <td>Nitin Menon</td>\n",
       "    </tr>\n",
       "    <tr>\n",
       "      <th>653</th>\n",
       "      <td>1136578.0</td>\n",
       "      <td>Kolkata</td>\n",
       "      <td>2018-04-21</td>\n",
       "      <td>KL Rahul</td>\n",
       "      <td>Eden Gardens</td>\n",
       "      <td>0.0</td>\n",
       "      <td>Kolkata Knight Riders</td>\n",
       "      <td>Kings XI Punjab</td>\n",
       "      <td>Kings XI Punjab</td>\n",
       "      <td>field</td>\n",
       "      <td>Kings XI Punjab</td>\n",
       "      <td>wickets</td>\n",
       "      <td>9.0</td>\n",
       "      <td>N</td>\n",
       "      <td>D/L</td>\n",
       "      <td>C Shamshuddin</td>\n",
       "      <td>A Deshmukh</td>\n",
       "    </tr>\n",
       "    <tr>\n",
       "      <th>667</th>\n",
       "      <td>1136592.0</td>\n",
       "      <td>Delhi</td>\n",
       "      <td>2018-05-02</td>\n",
       "      <td>RR Pant</td>\n",
       "      <td>Feroz Shah Kotla</td>\n",
       "      <td>0.0</td>\n",
       "      <td>Delhi Daredevils</td>\n",
       "      <td>Rajasthan Royals</td>\n",
       "      <td>Rajasthan Royals</td>\n",
       "      <td>field</td>\n",
       "      <td>Delhi Daredevils</td>\n",
       "      <td>runs</td>\n",
       "      <td>4.0</td>\n",
       "      <td>N</td>\n",
       "      <td>D/L</td>\n",
       "      <td>VK Sharma</td>\n",
       "      <td>CK Nandan</td>\n",
       "    </tr>\n",
       "  </tbody>\n",
       "</table>\n",
       "</div>"
      ],
      "text/plain": [
       "            id           city        date   player_of_match  \\\n",
       "40    336022.0          Delhi  2008-05-17  DPMD Jayawardene   \n",
       "43    336025.0        Kolkata  2008-05-18           M Ntini   \n",
       "60    392183.0      Cape Town  2009-04-19        DL Vettori   \n",
       "63    392186.0         Durban  2009-04-21          CH Gayle   \n",
       "89    392214.0      Centurion  2009-05-07         ML Hayden   \n",
       "192   501215.0          Kochi  2011-04-18       BB McCullum   \n",
       "221   501245.0        Kolkata  2011-05-07     Iqbal Abdulla   \n",
       "231   501255.0      Bangalore  2011-05-14          CH Gayle   \n",
       "429   733993.0          Delhi  2014-05-10          DW Steyn   \n",
       "477   829743.0  Visakhapatnam  2015-04-22         DA Warner   \n",
       "508   829807.0      Hyderabad  2015-05-15           V Kohli   \n",
       "538   980943.0      Hyderabad  2016-04-26          AB Dinda   \n",
       "561   980989.0        Kolkata  2016-05-14         YK Pathan   \n",
       "565   980997.0  Visakhapatnam  2016-05-17          AB Dinda   \n",
       "566   980999.0      Bangalore  2016-05-18           V Kohli   \n",
       "633  1082648.0      Bangalore  2017-05-17   NM Coulter-Nile   \n",
       "641  1136566.0         Jaipur  2018-04-11         SV Samson   \n",
       "653  1136578.0        Kolkata  2018-04-21          KL Rahul   \n",
       "667  1136592.0          Delhi  2018-05-02           RR Pant   \n",
       "\n",
       "                                                 venue  neutral_venue  \\\n",
       "40                                    Feroz Shah Kotla            0.0   \n",
       "43                                        Eden Gardens            0.0   \n",
       "60                                            Newlands            1.0   \n",
       "63                                           Kingsmead            1.0   \n",
       "89                                     SuperSport Park            1.0   \n",
       "192                                      Nehru Stadium            0.0   \n",
       "221                                       Eden Gardens            0.0   \n",
       "231                              M Chinnaswamy Stadium            0.0   \n",
       "429                                   Feroz Shah Kotla            0.0   \n",
       "477  Dr. Y.S. Rajasekhara Reddy ACA-VDCA Cricket St...            0.0   \n",
       "508          Rajiv Gandhi International Stadium, Uppal            0.0   \n",
       "538          Rajiv Gandhi International Stadium, Uppal            0.0   \n",
       "561                                       Eden Gardens            0.0   \n",
       "565  Dr. Y.S. Rajasekhara Reddy ACA-VDCA Cricket St...            0.0   \n",
       "566                              M Chinnaswamy Stadium            0.0   \n",
       "633                              M Chinnaswamy Stadium            0.0   \n",
       "641                             Sawai Mansingh Stadium            0.0   \n",
       "653                                       Eden Gardens            0.0   \n",
       "667                                   Feroz Shah Kotla            0.0   \n",
       "\n",
       "                           team1                        team2  \\\n",
       "40              Delhi Daredevils              Kings XI Punjab   \n",
       "43         Kolkata Knight Riders          Chennai Super Kings   \n",
       "60              Delhi Daredevils              Kings XI Punjab   \n",
       "63               Kings XI Punjab        Kolkata Knight Riders   \n",
       "89           Chennai Super Kings              Kings XI Punjab   \n",
       "192         Kochi Tuskers Kerala          Chennai Super Kings   \n",
       "221        Kolkata Knight Riders          Chennai Super Kings   \n",
       "231  Royal Challengers Bangalore        Kolkata Knight Riders   \n",
       "429             Delhi Daredevils          Sunrisers Hyderabad   \n",
       "477          Sunrisers Hyderabad        Kolkata Knight Riders   \n",
       "508          Sunrisers Hyderabad  Royal Challengers Bangalore   \n",
       "538          Sunrisers Hyderabad      Rising Pune Supergiants   \n",
       "561        Kolkata Knight Riders      Rising Pune Supergiants   \n",
       "565      Rising Pune Supergiants             Delhi Daredevils   \n",
       "566  Royal Challengers Bangalore              Kings XI Punjab   \n",
       "633          Sunrisers Hyderabad        Kolkata Knight Riders   \n",
       "641             Rajasthan Royals             Delhi Daredevils   \n",
       "653        Kolkata Knight Riders              Kings XI Punjab   \n",
       "667             Delhi Daredevils             Rajasthan Royals   \n",
       "\n",
       "                     toss_winner toss_decision                       winner  \\\n",
       "40              Delhi Daredevils           bat              Kings XI Punjab   \n",
       "43         Kolkata Knight Riders           bat          Chennai Super Kings   \n",
       "60              Delhi Daredevils         field             Delhi Daredevils   \n",
       "63         Kolkata Knight Riders         field        Kolkata Knight Riders   \n",
       "89           Chennai Super Kings           bat          Chennai Super Kings   \n",
       "192         Kochi Tuskers Kerala         field         Kochi Tuskers Kerala   \n",
       "221          Chennai Super Kings           bat        Kolkata Knight Riders   \n",
       "231  Royal Challengers Bangalore         field  Royal Challengers Bangalore   \n",
       "429          Sunrisers Hyderabad         field          Sunrisers Hyderabad   \n",
       "477        Kolkata Knight Riders         field          Sunrisers Hyderabad   \n",
       "508          Sunrisers Hyderabad           bat  Royal Challengers Bangalore   \n",
       "538      Rising Pune Supergiants         field      Rising Pune Supergiants   \n",
       "561      Rising Pune Supergiants           bat        Kolkata Knight Riders   \n",
       "565      Rising Pune Supergiants         field      Rising Pune Supergiants   \n",
       "566              Kings XI Punjab         field  Royal Challengers Bangalore   \n",
       "633        Kolkata Knight Riders         field        Kolkata Knight Riders   \n",
       "641             Delhi Daredevils         field             Rajasthan Royals   \n",
       "653              Kings XI Punjab         field              Kings XI Punjab   \n",
       "667             Rajasthan Royals         field             Delhi Daredevils   \n",
       "\n",
       "      result  result_margin eliminator method                umpire1  \\\n",
       "40      runs            6.0          N    D/L         AV Jayaprakash   \n",
       "43      runs            3.0          N    D/L              Asad Rauf   \n",
       "60   wickets           10.0          N    D/L              MR Benson   \n",
       "63      runs           11.0          N    D/L              DJ Harper   \n",
       "89      runs           12.0          N    D/L              DJ Harper   \n",
       "192  wickets            7.0          N    D/L            K Hariharan   \n",
       "221     runs           10.0          N    D/L              Asad Rauf   \n",
       "231  wickets            4.0          N    D/L            RE Koertzen   \n",
       "429  wickets            8.0          N    D/L           RM Deshpande   \n",
       "477     runs           16.0          N    D/L         RK Illingworth   \n",
       "508  wickets            6.0          N    D/L           AK Chaudhary   \n",
       "538     runs           34.0          N    D/L            AY Dandekar   \n",
       "561  wickets            8.0          N    D/L         A Nand Kishore   \n",
       "565     runs           19.0          N    D/L            Nitin Menon   \n",
       "566     runs           82.0          N    D/L  KN Ananthapadmanabhan   \n",
       "633  wickets            7.0          N    D/L           AK Chaudhary   \n",
       "641     runs           10.0          N    D/L  KN Ananthapadmanabhan   \n",
       "653  wickets            9.0          N    D/L          C Shamshuddin   \n",
       "667     runs            4.0          N    D/L              VK Sharma   \n",
       "\n",
       "             umpire2  \n",
       "40       RE Koertzen  \n",
       "43       K Hariharan  \n",
       "60         SD Ranade  \n",
       "63         SD Ranade  \n",
       "89    TH Wijewardene  \n",
       "192          AL Hill  \n",
       "221       PR Reiffel  \n",
       "231        RB Tiffin  \n",
       "429     BNJ Oxenford  \n",
       "477      VA Kulkarni  \n",
       "508  HDPK Dharmasena  \n",
       "538        CK Nandan  \n",
       "561     BNJ Oxenford  \n",
       "565    C Shamshuddin  \n",
       "566        M Erasmus  \n",
       "633      Nitin Menon  \n",
       "641      Nitin Menon  \n",
       "653       A Deshmukh  \n",
       "667        CK Nandan  "
      ]
     },
     "execution_count": 30,
     "metadata": {},
     "output_type": "execute_result"
    }
   ],
   "source": [
    "result_margin_not_null = df[~df['method']. isna()]\n",
    "result_margin_not_null"
   ]
  },
  {
   "cell_type": "markdown",
   "id": "c3d85dea",
   "metadata": {},
   "source": [
    "These 19 matches were decided on duckworth lewis method and these were not eliminator matches."
   ]
  },
  {
   "cell_type": "code",
   "execution_count": 31,
   "id": "b9f6407c",
   "metadata": {},
   "outputs": [
    {
     "name": "stdout",
     "output_type": "stream",
     "text": [
      "Counter({'Kolkata Knight Riders': 4, 'Royal Challengers Bangalore': 3, 'Kings XI Punjab': 2, 'Chennai Super Kings': 2, 'Delhi Daredevils': 2, 'Sunrisers Hyderabad': 2, 'Rising Pune Supergiants': 2, 'Kochi Tuskers Kerala': 1, 'Rajasthan Royals': 1})\n"
     ]
    }
   ],
   "source": [
    "print(Counter(result_margin_not_null[\"winner\"]))"
   ]
  },
  {
   "cell_type": "markdown",
   "id": "792e80c3",
   "metadata": {},
   "source": [
    "Kolkata Knight Riders have won most of the matches via D/L method i.e 4."
   ]
  },
  {
   "cell_type": "code",
   "execution_count": 32,
   "id": "c7cbc4af",
   "metadata": {},
   "outputs": [
    {
     "name": "stdout",
     "output_type": "stream",
     "text": [
      "Counter({'CH Gayle': 2, 'V Kohli': 2, 'AB Dinda': 2, 'DPMD Jayawardene': 1, 'M Ntini': 1, 'DL Vettori': 1, 'ML Hayden': 1, 'BB McCullum': 1, 'Iqbal Abdulla': 1, 'DW Steyn': 1, 'DA Warner': 1, 'YK Pathan': 1, 'NM Coulter-Nile': 1, 'SV Samson': 1, 'KL Rahul': 1, 'RR Pant': 1})\n"
     ]
    }
   ],
   "source": [
    "print(Counter(result_margin_not_null[\"player_of_match\"]))"
   ]
  },
  {
   "cell_type": "markdown",
   "id": "93c0c27a",
   "metadata": {},
   "source": [
    "Suprisingly, CH Gayle, V Kohli and AB Dinda have been able to bag player_of_match award in these matches also with highest number 2."
   ]
  },
  {
   "cell_type": "markdown",
   "id": "f11b6420",
   "metadata": {},
   "source": [
    "# Exploratory data analysis"
   ]
  },
  {
   "cell_type": "markdown",
   "id": "d81f3714",
   "metadata": {},
   "source": [
    "# Univariate"
   ]
  },
  {
   "cell_type": "markdown",
   "id": "26212b3c",
   "metadata": {},
   "source": [
    "## City\n"
   ]
  },
  {
   "cell_type": "code",
   "execution_count": 33,
   "id": "22e6070c",
   "metadata": {},
   "outputs": [
    {
     "data": {
      "text/plain": [
       "<AxesSubplot:>"
      ]
     },
     "execution_count": 33,
     "metadata": {},
     "output_type": "execute_result"
    },
    {
     "data": {
      "image/png": "[encoded data removed]",
      "text/plain": [
       "<Figure size 640x480 with 1 Axes>"
      ]
     },
     "metadata": {},
     "output_type": "display_data"
    }
   ],
   "source": [
    "df['city'].value_counts().plot.bar()"
   ]
  },
  {
   "cell_type": "markdown",
   "id": "5a3acc31",
   "metadata": {},
   "source": [
    "Most number of matches are organised by Mumbai followed by Kolkata and Delhi respectively."
   ]
  },
  {
   "cell_type": "markdown",
   "id": "1d6cee6c",
   "metadata": {},
   "source": [
    "## Date"
   ]
  },
  {
   "cell_type": "code",
   "execution_count": 34,
   "id": "33e30705",
   "metadata": {},
   "outputs": [
    {
     "data": {
      "text/plain": [
       "<AxesSubplot:xlabel='count', ylabel='year'>"
      ]
     },
     "execution_count": 34,
     "metadata": {},
     "output_type": "execute_result"
    },
    {
     "data": {
      "image/png": "[encoded data removed]",
      "text/plain": [
       "<Figure size 640x480 with 1 Axes>"
      ]
     },
     "metadata": {},
     "output_type": "display_data"
    }
   ],
   "source": [
    "df['date'] = pd.to_datetime(df['date'])\n",
    "df['year'] = df['date'].dt.year\n",
    "sns.countplot(data=df['date'], y=df['year'])"
   ]
  },
  {
   "cell_type": "markdown",
   "id": "c6550d90",
   "metadata": {},
   "source": [
    "The number of matches were more in year 2011, 2012 an 2013 because of more number of participating teams."
   ]
  },
  {
   "cell_type": "markdown",
   "id": "9306a337",
   "metadata": {},
   "source": [
    "## Venue"
   ]
  },
  {
   "cell_type": "code",
   "execution_count": 35,
   "id": "07f22d2e",
   "metadata": {},
   "outputs": [
    {
     "data": {
      "text/plain": [
       "<AxesSubplot:>"
      ]
     },
     "execution_count": 35,
     "metadata": {},
     "output_type": "execute_result"
    },
    {
     "data": {
      "image/png": "[encoded data removed]",
      "text/plain": [
       "<Figure size 640x480 with 1 Axes>"
      ]
     },
     "metadata": {},
     "output_type": "display_data"
    }
   ],
   "source": [
    "df['venue'].value_counts().plot.bar()"
   ]
  },
  {
   "cell_type": "markdown",
   "id": "07d29b45",
   "metadata": {},
   "source": [
    "Eden Garden has organised most number of matches in the history of IPL till 2020."
   ]
  },
  {
   "cell_type": "markdown",
   "id": "e2b84686",
   "metadata": {},
   "source": [
    "## Neutral_Venue"
   ]
  },
  {
   "cell_type": "code",
   "execution_count": 36,
   "id": "2341981d",
   "metadata": {},
   "outputs": [
    {
     "data": {
      "text/plain": [
       "<AxesSubplot:xlabel='neutral_venue', ylabel='count'>"
      ]
     },
     "execution_count": 36,
     "metadata": {},
     "output_type": "execute_result"
    },
    {
     "data": {
      "image/png": "[encoded data removed]",
      "text/plain": [
       "<Figure size 640x480 with 1 Axes>"
      ]
     },
     "metadata": {},
     "output_type": "display_data"
    }
   ],
   "source": [
    "sns.countplot(x=df[\"neutral_venue\"])"
   ]
  },
  {
   "cell_type": "code",
   "execution_count": 37,
   "id": "746c750c",
   "metadata": {},
   "outputs": [
    {
     "name": "stdout",
     "output_type": "stream",
     "text": [
      "Counter({0.0: 724, 1.0: 75})\n"
     ]
    }
   ],
   "source": [
    "print(Counter(df[\"neutral_venue\"]))"
   ]
  },
  {
   "cell_type": "markdown",
   "id": "c1172ab4",
   "metadata": {},
   "source": [
    "75 matches were played outside India in the span of 13 years."
   ]
  },
  {
   "cell_type": "markdown",
   "id": "be5e3763",
   "metadata": {},
   "source": [
    "## Toss Decision"
   ]
  },
  {
   "cell_type": "code",
   "execution_count": 38,
   "id": "405970ce",
   "metadata": {},
   "outputs": [
    {
     "data": {
      "text/plain": [
       "<AxesSubplot:xlabel='toss_decision', ylabel='count'>"
      ]
     },
     "execution_count": 38,
     "metadata": {},
     "output_type": "execute_result"
    },
    {
     "data": {
      "image/png": "[encoded data removed]",
      "text/plain": [
       "<Figure size 640x480 with 1 Axes>"
      ]
     },
     "metadata": {},
     "output_type": "display_data"
    }
   ],
   "source": [
    "sns.countplot(x=df[\"toss_decision\"])"
   ]
  },
  {
   "cell_type": "code",
   "execution_count": 39,
   "id": "deb05d1c",
   "metadata": {},
   "outputs": [
    {
     "name": "stdout",
     "output_type": "stream",
     "text": [
      "Counter({'field': 485, 'bat': 314})\n"
     ]
    }
   ],
   "source": [
    "print(Counter(df[\"toss_decision\"]))"
   ]
  },
  {
   "cell_type": "markdown",
   "id": "f9bf9661",
   "metadata": {},
   "source": [
    "Out of 799 normal matches, 485 teams who won the toss fields first and 314 bats first."
   ]
  },
  {
   "cell_type": "markdown",
   "id": "436161e3",
   "metadata": {},
   "source": [
    "## Toss Winners"
   ]
  },
  {
   "cell_type": "code",
   "execution_count": 40,
   "id": "cc456a5c",
   "metadata": {},
   "outputs": [
    {
     "data": {
      "text/plain": [
       "<AxesSubplot:xlabel='count', ylabel='toss_winner'>"
      ]
     },
     "execution_count": 40,
     "metadata": {},
     "output_type": "execute_result"
    },
    {
     "data": {
      "image/png": "[encoded data removed]",
      "text/plain": [
       "<Figure size 640x480 with 1 Axes>"
      ]
     },
     "metadata": {},
     "output_type": "display_data"
    }
   ],
   "source": [
    "sns.countplot(y=df[\"toss_winner\"])"
   ]
  },
  {
   "cell_type": "markdown",
   "id": "b0bcaea1",
   "metadata": {},
   "source": [
    "Most number of tosses are won by Mumbai Indians followed by Kolkata Knight Riders."
   ]
  },
  {
   "cell_type": "markdown",
   "id": "06d94852",
   "metadata": {},
   "source": [
    "## Match Winners"
   ]
  },
  {
   "cell_type": "code",
   "execution_count": 41,
   "id": "f3089164",
   "metadata": {},
   "outputs": [
    {
     "data": {
      "text/plain": [
       "<AxesSubplot:xlabel='count', ylabel='winner'>"
      ]
     },
     "execution_count": 41,
     "metadata": {},
     "output_type": "execute_result"
    },
    {
     "data": {
      "image/png": "[encoded data removed]",
      "text/plain": [
       "<Figure size 640x480 with 1 Axes>"
      ]
     },
     "metadata": {},
     "output_type": "display_data"
    }
   ],
   "source": [
    "sns.countplot(y=df[\"winner\"])"
   ]
  },
  {
   "cell_type": "markdown",
   "id": "422d934a",
   "metadata": {},
   "source": [
    "Most number of matches are won by Mumbai Indians followed by Chennai Super Kings."
   ]
  },
  {
   "cell_type": "markdown",
   "id": "6e0d7d73",
   "metadata": {},
   "source": [
    "# Bivariate"
   ]
  },
  {
   "cell_type": "code",
   "execution_count": 44,
   "id": "d82f9eed",
   "metadata": {},
   "outputs": [
    {
     "data": {
      "text/plain": [
       "<AxesSubplot:xlabel='count'>"
      ]
     },
     "execution_count": 44,
     "metadata": {},
     "output_type": "execute_result"
    },
    {
     "data": {
      "image/png": "[encoded data removed]",
      "text/plain": [
       "<Figure size 640x480 with 1 Axes>"
      ]
     },
     "metadata": {},
     "output_type": "display_data"
    }
   ],
   "source": [
    "list_of_01 = []\n",
    "for index, row in df.iterrows():\n",
    "    if row[\"toss_winner\"] == row[\"winner\"]:    # No of teams winning toss and then winning match\n",
    "        list_of_01.append(\"Win Both\")\n",
    "    else:\n",
    "        list_of_01.append(\"Win Toss or Win Match\") # No of teams winning toss and but losing the match\n",
    "sns.countplot(y=list_of_01)"
   ]
  },
  {
   "cell_type": "markdown",
   "id": "402db680",
   "metadata": {},
   "source": [
    "As, No. of 1's > No. of 0's , it clearly tells that its more likely to win a match if you win the toss.\n"
   ]
  },
  {
   "cell_type": "code",
   "execution_count": 45,
   "id": "1f3493d5",
   "metadata": {},
   "outputs": [
    {
     "data": {
      "text/plain": [
       "<AxesSubplot:xlabel='count'>"
      ]
     },
     "execution_count": 45,
     "metadata": {},
     "output_type": "execute_result"
    },
    {
     "data": {
      "image/png": "[encoded data removed]",
      "text/plain": [
       "<Figure size 640x480 with 1 Axes>"
      ]
     },
     "metadata": {},
     "output_type": "display_data"
    }
   ],
   "source": [
    "list_of_matchdecision_tossdecision = []\n",
    "for index, row in df.iterrows():\n",
    "    if row[\"toss_decision\"] == \"field\" and row[\"result\"] == \"wickets\":    # No of teams choose field and winning\n",
    "        list_of_matchdecision_tossdecision.append(\"Bowl first and win\")\n",
    "    elif row[\"toss_decision\"] == \"field\" and row[\"result\"] == \"runs\":    # No of teams choose field and losing\n",
    "        list_of_matchdecision_tossdecision.append(\"Bowl first and loss\")\n",
    "    elif row[\"toss_decision\"] == \"bat\" and row[\"result\"] == \"runs\":    # No of teams choose bat and winning\n",
    "        list_of_matchdecision_tossdecision.append(\"Bat first and win\")\n",
    "    else:\n",
    "        list_of_matchdecision_tossdecision.append(\"Bat first and loss\") # No of teams choose bat and losing\n",
    "        \n",
    "sns.countplot(y=list_of_matchdecision_tossdecision)"
   ]
  },
  {
   "cell_type": "markdown",
   "id": "d3034d3c",
   "metadata": {},
   "source": [
    "We can conclude that team winning the toss and bowling first have won most number of matches."
   ]
  },
  {
   "cell_type": "code",
   "execution_count": null,
   "id": "3b54c79d",
   "metadata": {},
   "outputs": [],
   "source": []
  }
 ],
 "metadata": {
  "kernelspec": {
   "display_name": "Python 3 (ipykernel)",
   "language": "python",
   "name": "python3"
  },
  "language_info": {
   "codemirror_mode": {
    "name": "ipython",
    "version": 3
   },
   "file_extension": ".py",
   "mimetype": "text/x-python",
   "name": "python",
   "nbconvert_exporter": "python",
   "pygments_lexer": "ipython3",
   "version": "3.9.13"
  }
 },
 "nbformat": 4,
 "nbformat_minor": 5
}
